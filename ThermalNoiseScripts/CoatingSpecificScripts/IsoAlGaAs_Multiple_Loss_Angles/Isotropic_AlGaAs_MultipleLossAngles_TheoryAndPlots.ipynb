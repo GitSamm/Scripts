{
 "metadata": {
  "language_info": {
   "codemirror_mode": {
    "name": "ipython",
    "version": 3
   },
   "file_extension": ".py",
   "mimetype": "text/x-python",
   "name": "python",
   "nbconvert_exporter": "python",
   "pygments_lexer": "ipython3",
   "version": "3.7.4-final"
  },
  "orig_nbformat": 2,
  "kernelspec": {
   "name": "python37464bitanaconda3virtualenvfff8831ddd5943edbb0020aeae833cab",
   "display_name": "Python 3.7.4 64-bit ('anaconda3': virtualenv)",
   "language": "python"
  }
 },
 "nbformat": 4,
 "nbformat_minor": 2,
 "cells": [
  {
   "cell_type": "code",
   "execution_count": 22,
   "metadata": {},
   "outputs": [],
   "source": [
    "# This jupyter notebook contains information for analyzing data from \n",
    "# a thermal noise simulation with a isotropica algaas coating and a \n",
    "# fused silica substrate.\n",
    "\n",
    "# In this notebook we analyze the coating energy and the coating thermal\n",
    "# noise. We compare the numerically simulated data to four different\n",
    "# analytic equations:\n",
    "\n",
    "# 1.) Geoffrey Lovelace's Paper: https://arxiv.org/pdf/1707.07774.pdf\n",
    "# 2.) Ting Hong's Paper:         https://doi.org/10.1103/PhysRevD.87.082001\n",
    "# 3.) Greg Harry's Paper:        https://doi.org/10.1088/0264-9381/19/5/305\n",
    "# 4.) Analytical equations I derived\n",
    "\n",
    "# Contact Samuel if you have any questions"
   ]
  },
  {
   "cell_type": "code",
   "execution_count": 24,
   "metadata": {},
   "outputs": [],
   "source": [
    "import math\n",
    "import numpy as np\n",
    "import matplotlib\n",
    "from matplotlib import pyplot as plt\n",
    "import matplotlib.patches as mpatches\n",
    "from matplotlib.backends.backend_pdf import PdfPages\n",
    "from matplotlib.ticker import FuncFormatter, MaxNLocator"
   ]
  },
  {
   "cell_type": "code",
   "execution_count": 26,
   "metadata": {
    "tags": []
   },
   "outputs": [],
   "source": [
    "# Variables used in the analytic solutions.\n",
    "\n",
    "T  = 305. # Temperature\n",
    "f  = 100.\n",
    "F0 = 0.001\n",
    "d  = 4.68E-6 # Thickness of mirror\n",
    "R  = 12500.0 # Mirror Radius\n",
    "kB = 1.3806488E-23 # Boltzmans constant\n",
    "r0 = 152.3108006676E-6 # beam width\n",
    "wm = r0 * math.sqrt(2)\n",
    "\n",
    "# These variables define the loss angles written in config_multloss.yaml\n",
    "phiSub = 1E-6\n",
    "phiCoat = 2.5E-5\n",
    "# We can define different loss angles for the bulk/shear components of the coating.\n",
    "BulkLossAngle = 7.75e-4\n",
    "ShearLossAngle = 5.2e-7\n"
   ]
  },
  {
   "cell_type": "code",
   "execution_count": 28,
   "metadata": {},
   "outputs": [],
   "source": [
    "# Bring in the numerical results\n",
    "data = np.genfromtxt(\"Energy.dat\")\n",
    "\n",
    "# Get the substrate, coating, and total energy\n",
    "subEnergy_numerical = data[:,2]\n",
    "coatEnergy_numerical = data[:,3]\n",
    "totalEnergy_numerical = data[:,1]\n",
    "\n",
    "# Get the value of the coating energy in the last cycle.\n",
    "# In order to get the correct units, we have to multiply it by an order of magnitude correction.\n",
    "SubEnergyNumerical = subEnergy_numerical[-1] * 1E-6\n",
    "CoatEnergyNumerical = coatEnergy_numerical[-1] * 1E-6\n",
    "TotalEnergyNumerical = totalEnergy_numerical[-1] * 1E-6\n",
    "\n",
    "# Get the bulk and shear energies calculated.\n",
    "bulkEnergy_numerical = data[:,10]\n",
    "shearEnergy_numerical = data[:,11]\n",
    "\n",
    "# Get the value of the bulk/shear energy in the last cycle.\n",
    "# We will call this the \"true\" value and compare it to the analytic calculation.\n",
    "BulkEnergyNumerical = bulkEnergy_numerical[-1] * 1E-6\n",
    "ShearEnergyNumerical = shearEnergy_numerical[-1] * 1E-6\n",
    "\n",
    "# Get the coating and total thermal noise\n",
    "coatthermalnoise_numerical = data[:, 5]\n",
    "totalthermalnoise_numerical = data[:, 6]\n",
    "\n",
    "# Get the value of the coating/total thermal noise in the last cycle.\n",
    "# In the code, the value outputted is multiplied by sqrt(f), so we have to divide that out in order to compare to the analytic solutions. \n",
    "CoatThermalNoiseNumerical = coatthermalnoise_numerical[-1] / np.sqrt(f)\n",
    "TotalThermalNoiseNumerical = totalthermalnoise_numerical[-1] / np.sqrt(f)"
   ]
  },
  {
   "cell_type": "code",
   "execution_count": 30,
   "metadata": {
    "tags": []
   },
   "outputs": [],
   "source": [
    "# Below these cells are all of the equations that we are going to need. \n",
    "\n",
    "# We have tested analytics equations and found the that Hong et al+ analytic equation does not agree with our analytic equation as well as the Greg Harry analytic equation.\n",
    "\n",
    "######################################################################\n",
    "######################################################################\n",
    "\n",
    "# Here we find the bulk and shear moduli for the coating and substrate. You can define the bulk/shear modulii in terms of the youngs modulus and poisson ratio or you can define these two modulii in terms of the lamé parameters. \n",
    "\n",
    "# If you choose to define the bulk/shear modulus in terms of the lamé parameters, you must then define the young modulus and poisson ratio in terms of the bulk and shear modulus. If you instead choose to define the bulk and shear modulus in terms of the poisson ratios and youngs modulus of the coating/substrate, you must first define the poisson ratio and youngs modulus of the coating/substrate.\n",
    "\n",
    "###############################################################################\n",
    "#     These are the bulk and shear modulus taken from Thorne and Blandford    #\n",
    "###############################################################################\n",
    "# The value for these poisson ratios are given in \n",
    "# https://arxiv.org/pdf/1707.07774.pdf\n",
    "\n",
    "\n",
    "# Possion ratio and Youngs modulus for a fused silica substrate.\n",
    "sigmaSub = 0.17\n",
    "ymSub = 72.E9\n",
    "\n",
    "# Possion ratio and Youngs modulus for a isotropic AlGaAs coating.\n",
    "sigmaCoat = 0.32\n",
    "ymCoat = 100.E9\n",
    "\n",
    "# Bulk and shear modulus for the coating, taken from Thorne + Blanford eq. 11.39\n",
    "# We refer to mu as the shear modulus and K as the bulk modulus.\n",
    "\n",
    "mu_coating = ymCoat/(2*(1 + sigmaCoat))\n",
    "K_coating  = ymCoat/(3*(1 - 2*sigmaCoat))\n",
    "\n",
    "# Bulk and shear modulus for the substrate, , taken from Thorne + Blanford eq. 11.39\n",
    "mu_substrate = ymSub / (2*(1 + sigmaSub))\n",
    "K_substrate  = ymSub / (3*(1 - 2*sigmaSub))\n",
    "\n",
    "########################################################################\n",
    "# These are the bulk and shear modulus in terms of the lame parameters #\n",
    "########################################################################\n",
    "\n",
    "# Save all variables here.\n",
    "#lame_lambda_FusedSilica = 0.0158508\n",
    "#lame_mu_FusedSilica = 0.0307692\n",
    "#lame_lambda_Ta2O5 = 0.0484794\n",
    "#lame_mu_Ta2O5 = 0.0569106\n",
    "#lame_lambda_AlGaAs = 0.0673401\n",
    "#lame_mu_AlGaAs = 0.0378788\n",
    "\n",
    "# Lamé parameters for analytic equation in Thorne + Blandford\n",
    "#lame_mu_coating     = 0.0307692\n",
    "#lame_lambda_coating = 0.0158508\n",
    "\n",
    "#lame_mu_substrate     = 0.0307692\n",
    "#lame_lambda_substrate = 0.0158508\n",
    "\n",
    "# In the literature, these equations are also referred to as the first and second Lamé coefficents.\n",
    "# They are discussed at the end of section 11.3.3.\n",
    "\n",
    "#mu_substrate = lame_mu_substrate\n",
    "#K_substrate  = lame_lambda_substrate + ((2 * mu_substrate)/3)\n",
    "\n",
    "#mu_coating = lame_mu_coating \n",
    "#K_coating  = lame_lambda_coating + ((2 * mu_coating)/3) \n",
    "\n",
    "#################################################################################\n",
    "# These are the Young's modulus and Poisson Ratio taken from Thorne + Blandford #\n",
    "#################################################################################\n",
    "\n",
    "# These are found in equation 11.39 of Thorne + Blandford.\n",
    "#sigmaSub = ((3 * K_substrate) - (2 * mu_substrate)) / (2* ((3 * K_substrate) + mu_substrate))\n",
    "#ymSub = (9 * mu_substrate * K_substrate) / ((3 * K_substrate) + mu_substrate)\n",
    "\n",
    "#sigmaCoat =  ((3 * K_coating) - (2 * mu_coating)) / (2* ((3 * K_coating) + mu_coating))\n",
    "#ymCoat = (9 * mu_coating * K_coating) / ((3 * K_coating) + mu_coating)"
   ]
  },
  {
   "cell_type": "code",
   "execution_count": 32,
   "metadata": {
    "tags": []
   },
   "outputs": [
    {
     "output_type": "stream",
     "name": "stdout",
     "text": [
      "The coating energy given in the Greg Harry paper is:  3.1791154518242103e-10 .\nThe substrate energy given in the Greg Harry paper is:  1.7663665292710027e-08 .\nThe total energy given in the Greg Harry paper is:  1.7981576837892448e-08 .\n"
     ]
    }
   ],
   "source": [
    "# Harry analytic equations (eq. 17-19) for finding the coating energy\n",
    "# https://doi.org/10.1088/0264-9381/19/5/305\n",
    "\n",
    "# Energy in the substrate\n",
    "analytic_harry_substrate_energy = ((math.pow(F0, 2) * (1 - math.pow(sigmaSub, 2)) ) / (2 * math.sqrt(math.pi) * wm * ymSub))/F0**2\n",
    "\n",
    "# Energy in the coating\n",
    "analytic_harry_coating_energy = ((((d/(math.sqrt(math.pi) * wm)) * (((ymCoat * (1 + sigmaSub) * math.pow((1 - 2*sigmaSub), 2 )) + (ymSub * sigmaCoat * (1 + sigmaCoat) * (1- 2*sigmaSub))) / (ymSub * (1 + sigmaCoat) * ( 1 - sigmaCoat) * ( 1 - sigmaSub)))) + ((d/(math.sqrt(math.pi) * wm)) * (( (ymSub * (1 + sigmaCoat) * (1 - 2 * sigmaCoat)) - (ymCoat * sigmaCoat * (1 + sigmaSub) * ( 1- 2 * sigmaSub)) ) / (ymCoat * ( 1 - sigmaCoat) * (1 + sigmaSub) * (1 - sigmaSub))))) * ((math.pow(F0, 2) * (1 - math.pow(sigmaSub, 2)) ) / (2 * math.sqrt(math.pi) * wm * ymSub))) / F0**2\n",
    "\n",
    "# Total Energy\n",
    "analytic_harry_total_energy = analytic_harry_substrate_energy + analytic_harry_coating_energy\n",
    "\n",
    "print(\"The coating energy given in the Greg Harry paper is: \", analytic_harry_coating_energy, \".\")\n",
    "print(\"The substrate energy given in the Greg Harry paper is: \", analytic_harry_substrate_energy, \".\")\n",
    "print(\"The total energy given in the Greg Harry paper is: \", analytic_harry_total_energy, \".\")\n"
   ]
  },
  {
   "cell_type": "code",
   "execution_count": 34,
   "metadata": {
    "tags": []
   },
   "outputs": [
    {
     "output_type": "stream",
     "name": "stdout",
     "text": [
      "Analytic Bulk Energy Divided By Shear Energy is:  3.0020552390567516\n\nThe analytic solution I provided says the coating energy is:  3.1791154518242103e-10 . The percent error between our numerical solution and the analytic equation is:  12.173554259498163\n\n3.1482333694915496e-18\n3.0062938926190004e-18\n"
     ]
    }
   ],
   "source": [
    "# These equations are ones I derived. They are the analytic solutions to the bulk/shear energies.\n",
    "# We define the coating energy in terms of the bulk/shear energies which are defined in terms of \n",
    "# bulk/shear modulus.\n",
    "\n",
    "# Equation 17\n",
    "K_theta = (K_substrate + (mu_substrate / 3) + mu_coating) / ( (K_coating + ((4 / 3) * mu_coating))*(K_substrate + (mu_substrate/3)) )\n",
    "# Equation 18\n",
    "K_zz = (K_substrate + (mu_substrate / 3) + (mu_coating / 3) - (K_coating / 2) ) / ( (K_coating + ((4 / 3) * mu_coating))*(K_substrate + (mu_substrate/3)) )\n",
    "\n",
    "# The energies\n",
    "my_bulk_energy = (d * K_coating * pow(K_theta, 2))\n",
    "my_shear_energy = ((2 * d * mu_coating  * (pow((K_theta - K_zz), 2) + pow(K_zz, 2))) - ((2 * d * mu_coating * pow(K_theta, 2))/3))\n",
    "\n",
    "# Coating Energy\n",
    "my_analytic_coating_energy = (my_bulk_energy + my_shear_energy) / (4 * math.pi * r0**2)\n",
    "\n",
    "my_BulkEnergy_Divided_By_ShearEnergy = my_bulk_energy/my_shear_energy\n",
    "\n",
    "#print(\"Analytic Bulk Energy is:   \", my_bulk_energy)\n",
    "#print(\"Analytic Shear Energy is:  \", my_shear_energy)\n",
    "#print(\"Analytic Coating Energy is \", my_analytic_coating_energy)\n",
    "print(\"Analytic Bulk Energy Divided By Shear Energy is: \", my_BulkEnergy_Divided_By_ShearEnergy)\n",
    "print()\n",
    "\n",
    "\n",
    "# Coating Thermal Noise\n",
    "analytic_coating_thermal_noise_test = np.sqrt(((4 * kB * T) / (math.pi * f)) * (my_bulk_energy * BulkLossAngle + my_shear_energy * ShearLossAngle) / (4 * math.pi * r0**2))\n",
    "\n",
    "\n",
    "\n",
    "print(\"The analytic solution I provided says the coating energy is: \", my_analytic_coating_energy,\". The percent error between our numerical solution and the analytic equation is: \", PercentDifference(my_analytic_coating_energy, CoatEnergyNumerical))\n",
    "\n",
    "\n",
    "print()\n",
    "print(analytic_coating_thermal_noise_test)\n",
    "print(CoatThermalNoiseNumerical)\n",
    "\n",
    "\n",
    "\n",
    "\n",
    "\n"
   ]
  },
  {
   "cell_type": "code",
   "execution_count": 36,
   "metadata": {},
   "outputs": [
    {
     "output_type": "stream",
     "name": "stdout",
     "text": [
      "6.527843637825414e-19\n3.3405205545689833e-18\n"
     ]
    }
   ],
   "source": [
    "# Lovelace analytic solution (eq. 43) for coating thermal noise\n",
    "# https://arxiv.org/pdf/1707.07774.pdf\n",
    "analytic_geoffrey_coating_thermal_noise = np.sqrt((2*kB*T/((math.pi**2)*f))*((1-(sigmaSub**2))/(wm*ymSub))*(d/wm)*((phiCoat)/(ymSub*ymCoat*(1-sigmaCoat**2)*(1-sigmaSub**2)))*(ymCoat**2*(1+sigmaSub)**2*(1-2*sigmaSub)**2+ymSub**2*(1+sigmaCoat)**2*(1-2*sigmaCoat)))\n",
    "\n",
    "# Hong anlaytic solution (eq. 69) for coating energy providing that the substrate and coating are the same material.\n",
    "# https://doi.org/10.1103/PhysRevD.87.082001\n",
    "\n",
    "analytic_hong_coating_thermal_noise_equalsub = np.sqrt((((8*kB*T*d)*(1 - sigmaCoat - (2*np.square(sigmaCoat))))/(3 * f * ymCoat * (math.pi**2) * (wm**2))) * ((2 * BulkLossAngle * (1 + sigmaCoat)) + (ShearLossAngle * (1 - 2 * sigmaCoat))))\n",
    "\n",
    "\n",
    "print(analytic_geoffrey_coating_thermal_noise)\n",
    "print(analytic_hong_coating_thermal_noise_equalsub)"
   ]
  },
  {
   "cell_type": "code",
   "execution_count": 38,
   "metadata": {},
   "outputs": [
    {
     "output_type": "stream",
     "name": "stdout",
     "text": [
      "4.452953261663601e-18\n"
     ]
    }
   ],
   "source": [
    "# Eq 62-64\n",
    "# https://doi.org/10.1103/PhysRevD.87.082001\n",
    "\n",
    "# This is the more general equation, allowing for a different coating and substrate as well as a different bulk and shear loss angles.\n",
    "\n",
    "hong_BulkEnergy = (BulkLossAngle * (1 - (2 * sigmaCoat))) * ((((ymCoat/(ymSub**2))) * ((1 - (2 * sigmaSub))**2) * ((1 + sigmaSub)**2) * (1/((1 - sigmaCoat)**2))) + ((2 * (1 - (2*sigmaSub)) * (1 + sigmaSub) * (1 + sigmaCoat)) / (ymSub * ((1 - sigmaCoat)**2))) + ((1 + sigmaCoat)**2)/(ymCoat * ((1 - sigmaCoat)**2)))\n",
    "\n",
    "\n",
    "hong_ShearEnergy = (2 * ShearLossAngle) * ( (ymCoat/(ymSub**2)) * ((1 - (2 * sigmaSub))**2) * ((1 + sigmaSub)**2) * (1/((1 - sigmaCoat)**2)) - (((1 + sigmaCoat)*(1 - (2 * sigmaCoat)) *(1 - (2*sigmaSub))*(1+sigmaSub))/(ymSub* ((1 - sigmaCoat)**2))) + ((((1 - (2 * sigmaCoat))**2) * (1 + sigmaCoat)) / (ymCoat * ((1 - sigmaCoat)**2))))\n",
    "\n",
    "\n",
    "analytic_hong_coating_thermal_noise = np.sqrt(((4 * kB * T * d)/((math.pi**2) * f * 3 * (wm**2))) * (hong_BulkEnergy + hong_ShearEnergy))\n",
    "\n",
    "print(analytic_hong_coating_thermal_noise)"
   ]
  },
  {
   "cell_type": "code",
   "execution_count": 40,
   "metadata": {},
   "outputs": [],
   "source": [
    "# We are going to be comparing how accurate one solution is to another, so we are going to define a percent error function. Here \"a\" is the true value, or the value of the analytic solution.\n",
    "def PercentDifference(a, b):\n",
    "    return(100 * np.abs(a-b)/a)\n"
   ]
  },
  {
   "cell_type": "code",
   "execution_count": 42,
   "metadata": {},
   "outputs": [
    {
     "output_type": "stream",
     "name": "stdout",
     "text": [
      "These comparisons are for a effective isotropic AlGaAs coating with a fused silica substrate.\nThe numerically calculated coating energy is:  2.7921041073243e-10 .\nThe analytic solution Greg Harry presents says the coating energy is:  3.1791154518242103e-10 . The percent error between our numerical solution and the analytic formula is:  12.173554259498163 %.\nThe analytic solution I provided says the coating energy is:  3.1791154518242103e-10 . The percent error between our numerical solution and the analytic equation is:  12.173554259498163\n"
     ]
    }
   ],
   "source": [
    "# Before we analyze any data, we are going to compare our numerical results to the analytic equations.\n",
    "\n",
    "print(\"These comparisons are for a effective isotropic AlGaAs coating with a fused silica substrate.\")\n",
    "\n",
    "print(\"The numerically calculated coating energy is: \", CoatEnergyNumerical, \".\")\n",
    "\n",
    "print(\"The analytic solution Greg Harry presents says the coating energy is: \", analytic_harry_coating_energy, \". The percent error between our numerical solution and the analytic formula is: \",PercentDifference(analytic_harry_coating_energy, CoatEnergyNumerical),\"%.\")\n",
    "\n",
    "print(\"The analytic solution I provided says the coating energy is: \", my_analytic_coating_energy,\". The percent error between our numerical solution and the analytic equation is: \", PercentDifference(my_analytic_coating_energy, CoatEnergyNumerical))\n"
   ]
  },
  {
   "cell_type": "code",
   "execution_count": 44,
   "metadata": {},
   "outputs": [
    {
     "output_type": "stream",
     "name": "stdout",
     "text": [
      "The numerically calculated coating thermal noise is:  3.0062938926190004e-18 .\nThe analytic solution Ting Hong presents says the coating thermal noise is:  4.452953261663601e-18 . The percent error between our numerical solution and the analytic formula is:  32.48763874301559 %.\nThe analytic solution Geoffrey provided says the coating thermal noise is:  6.527843637825414e-19 . The percent error between our numerical solution and the analytic equation is:  360.5339924502957 .\n"
     ]
    }
   ],
   "source": [
    "# Lets next compare our anlytic solutions for the coating thermal noise to the numerical results.\n",
    "\n",
    "print(\"The numerically calculated coating thermal noise is: \", CoatThermalNoiseNumerical, \".\")\n",
    "print(\"The analytic solution Ting Hong presents says the coating thermal noise is: \", analytic_hong_coating_thermal_noise, \". The percent error between our numerical solution and the analytic formula is: \",PercentDifference(analytic_hong_coating_thermal_noise, CoatThermalNoiseNumerical),\"%.\")\n",
    "print(\"The analytic solution Geoffrey provided says the coating thermal noise is: \", analytic_geoffrey_coating_thermal_noise,\". The percent error between our numerical solution and the analytic equation is: \", PercentDifference(analytic_geoffrey_coating_thermal_noise, CoatThermalNoiseNumerical), \".\")"
   ]
  },
  {
   "cell_type": "code",
   "execution_count": 46,
   "metadata": {
    "tags": []
   },
   "outputs": [
    {
     "output_type": "display_data",
     "data": {
      "text/plain": "<Figure size 432x288 with 1 Axes>",
      "image/svg+xml": "<?xml version=\"1.0\" encoding=\"utf-8\" standalone=\"no\"?>\n<!DOCTYPE svg PUBLIC \"-//W3C//DTD SVG 1.1//EN\"\n  \"http://www.w3.org/Graphics/SVG/1.1/DTD/svg11.dtd\">\n<!-- Created with matplotlib (https://matplotlib.org/) -->\n<svg height=\"282.850575pt\" version=\"1.1\" viewBox=\"0 0 420.493281 282.850575\" width=\"420.493281pt\" xmlns=\"http://www.w3.org/2000/svg\" xmlns:xlink=\"http://www.w3.org/1999/xlink\">\n <defs>\n  <style type=\"text/css\">\n*{stroke-linecap:butt;stroke-linejoin:round;}\n  </style>\n </defs>\n <g id=\"figure_1\">\n  <g id=\"patch_1\">\n   <path d=\"M 0 282.850575 \nL 420.493281 282.850575 \nL 420.493281 0 \nL 0 0 \nz\n\" style=\"fill:none;\"/>\n  </g>\n  <g id=\"axes_1\">\n   <g id=\"patch_2\">\n    <path d=\"M 86.28 214.1312 \nL 413.293281 214.1312 \nL 413.293281 44.4288 \nL 86.28 44.4288 \nz\n\" style=\"fill:#ffffff;\"/>\n   </g>\n   <g id=\"matplotlib.axis_1\">\n    <g id=\"xtick_1\">\n     <g id=\"line2d_1\">\n      <path clip-path=\"url(#pf690ea5eda)\" d=\"M 111.434868 214.1312 \nL 111.434868 44.4288 \n\" style=\"fill:none;stroke:#cccccc;stroke-linecap:square;stroke-width:0.5;\"/>\n     </g>\n     <g id=\"line2d_2\">\n      <defs>\n       <path d=\"M 0 0 \nL 0 1 \n\" id=\"mb871551f50\" style=\"stroke:#000000;stroke-width:0.8;\"/>\n      </defs>\n      <g>\n       <use style=\"stroke:#000000;stroke-width:0.8;\" x=\"111.434868\" xlink:href=\"#mb871551f50\" y=\"214.1312\"/>\n      </g>\n     </g>\n     <g id=\"text_1\">\n      <!-- 0.0 -->\n      <defs>\n       <path d=\"M 31.78125 66.40625 \nQ 24.171875 66.40625 20.328125 58.90625 \nQ 16.5 51.421875 16.5 36.375 \nQ 16.5 21.390625 20.328125 13.890625 \nQ 24.171875 6.390625 31.78125 6.390625 \nQ 39.453125 6.390625 43.28125 13.890625 \nQ 47.125 21.390625 47.125 36.375 \nQ 47.125 51.421875 43.28125 58.90625 \nQ 39.453125 66.40625 31.78125 66.40625 \nz\nM 31.78125 74.21875 \nQ 44.046875 74.21875 50.515625 64.515625 \nQ 56.984375 54.828125 56.984375 36.375 \nQ 56.984375 17.96875 50.515625 8.265625 \nQ 44.046875 -1.421875 31.78125 -1.421875 \nQ 19.53125 -1.421875 13.0625 8.265625 \nQ 6.59375 17.96875 6.59375 36.375 \nQ 6.59375 54.828125 13.0625 64.515625 \nQ 19.53125 74.21875 31.78125 74.21875 \nz\n\" id=\"DejaVuSans-48\"/>\n       <path d=\"M 10.6875 12.40625 \nL 21 12.40625 \nL 21 0 \nL 10.6875 0 \nz\n\" id=\"DejaVuSans-46\"/>\n      </defs>\n      <g transform=\"translate(97.122055 240.808388)scale(0.18 -0.18)\">\n       <use xlink:href=\"#DejaVuSans-48\"/>\n       <use x=\"63.623047\" xlink:href=\"#DejaVuSans-46\"/>\n       <use x=\"95.410156\" xlink:href=\"#DejaVuSans-48\"/>\n      </g>\n     </g>\n    </g>\n    <g id=\"xtick_2\">\n     <g id=\"line2d_3\">\n      <path clip-path=\"url(#pf690ea5eda)\" d=\"M 174.322037 214.1312 \nL 174.322037 44.4288 \n\" style=\"fill:none;stroke:#cccccc;stroke-linecap:square;stroke-width:0.5;\"/>\n     </g>\n     <g id=\"line2d_4\">\n      <g>\n       <use style=\"stroke:#000000;stroke-width:0.8;\" x=\"174.322037\" xlink:href=\"#mb871551f50\" y=\"214.1312\"/>\n      </g>\n     </g>\n     <g id=\"text_2\">\n      <!-- 2.5 -->\n      <defs>\n       <path d=\"M 19.1875 8.296875 \nL 53.609375 8.296875 \nL 53.609375 0 \nL 7.328125 0 \nL 7.328125 8.296875 \nQ 12.9375 14.109375 22.625 23.890625 \nQ 32.328125 33.6875 34.8125 36.53125 \nQ 39.546875 41.84375 41.421875 45.53125 \nQ 43.3125 49.21875 43.3125 52.78125 \nQ 43.3125 58.59375 39.234375 62.25 \nQ 35.15625 65.921875 28.609375 65.921875 \nQ 23.96875 65.921875 18.8125 64.3125 \nQ 13.671875 62.703125 7.8125 59.421875 \nL 7.8125 69.390625 \nQ 13.765625 71.78125 18.9375 73 \nQ 24.125 74.21875 28.421875 74.21875 \nQ 39.75 74.21875 46.484375 68.546875 \nQ 53.21875 62.890625 53.21875 53.421875 \nQ 53.21875 48.921875 51.53125 44.890625 \nQ 49.859375 40.875 45.40625 35.40625 \nQ 44.1875 33.984375 37.640625 27.21875 \nQ 31.109375 20.453125 19.1875 8.296875 \nz\n\" id=\"DejaVuSans-50\"/>\n       <path d=\"M 10.796875 72.90625 \nL 49.515625 72.90625 \nL 49.515625 64.59375 \nL 19.828125 64.59375 \nL 19.828125 46.734375 \nQ 21.96875 47.46875 24.109375 47.828125 \nQ 26.265625 48.1875 28.421875 48.1875 \nQ 40.625 48.1875 47.75 41.5 \nQ 54.890625 34.8125 54.890625 23.390625 \nQ 54.890625 11.625 47.5625 5.09375 \nQ 40.234375 -1.421875 26.90625 -1.421875 \nQ 22.3125 -1.421875 17.546875 -0.640625 \nQ 12.796875 0.140625 7.71875 1.703125 \nL 7.71875 11.625 \nQ 12.109375 9.234375 16.796875 8.0625 \nQ 21.484375 6.890625 26.703125 6.890625 \nQ 35.15625 6.890625 40.078125 11.328125 \nQ 45.015625 15.765625 45.015625 23.390625 \nQ 45.015625 31 40.078125 35.4375 \nQ 35.15625 39.890625 26.703125 39.890625 \nQ 22.75 39.890625 18.8125 39.015625 \nQ 14.890625 38.140625 10.796875 36.28125 \nz\n\" id=\"DejaVuSans-53\"/>\n      </defs>\n      <g transform=\"translate(160.009225 240.808388)scale(0.18 -0.18)\">\n       <use xlink:href=\"#DejaVuSans-50\"/>\n       <use x=\"63.623047\" xlink:href=\"#DejaVuSans-46\"/>\n       <use x=\"95.410156\" xlink:href=\"#DejaVuSans-53\"/>\n      </g>\n     </g>\n    </g>\n    <g id=\"xtick_3\">\n     <g id=\"line2d_5\">\n      <path clip-path=\"url(#pf690ea5eda)\" d=\"M 237.209207 214.1312 \nL 237.209207 44.4288 \n\" style=\"fill:none;stroke:#cccccc;stroke-linecap:square;stroke-width:0.5;\"/>\n     </g>\n     <g id=\"line2d_6\">\n      <g>\n       <use style=\"stroke:#000000;stroke-width:0.8;\" x=\"237.209207\" xlink:href=\"#mb871551f50\" y=\"214.1312\"/>\n      </g>\n     </g>\n     <g id=\"text_3\">\n      <!-- 5.0 -->\n      <g transform=\"translate(222.896394 240.808388)scale(0.18 -0.18)\">\n       <use xlink:href=\"#DejaVuSans-53\"/>\n       <use x=\"63.623047\" xlink:href=\"#DejaVuSans-46\"/>\n       <use x=\"95.410156\" xlink:href=\"#DejaVuSans-48\"/>\n      </g>\n     </g>\n    </g>\n    <g id=\"xtick_4\">\n     <g id=\"line2d_7\">\n      <path clip-path=\"url(#pf690ea5eda)\" d=\"M 300.096376 214.1312 \nL 300.096376 44.4288 \n\" style=\"fill:none;stroke:#cccccc;stroke-linecap:square;stroke-width:0.5;\"/>\n     </g>\n     <g id=\"line2d_8\">\n      <g>\n       <use style=\"stroke:#000000;stroke-width:0.8;\" x=\"300.096376\" xlink:href=\"#mb871551f50\" y=\"214.1312\"/>\n      </g>\n     </g>\n     <g id=\"text_4\">\n      <!-- 7.5 -->\n      <defs>\n       <path d=\"M 8.203125 72.90625 \nL 55.078125 72.90625 \nL 55.078125 68.703125 \nL 28.609375 0 \nL 18.3125 0 \nL 43.21875 64.59375 \nL 8.203125 64.59375 \nz\n\" id=\"DejaVuSans-55\"/>\n      </defs>\n      <g transform=\"translate(285.783564 240.808388)scale(0.18 -0.18)\">\n       <use xlink:href=\"#DejaVuSans-55\"/>\n       <use x=\"63.623047\" xlink:href=\"#DejaVuSans-46\"/>\n       <use x=\"95.410156\" xlink:href=\"#DejaVuSans-53\"/>\n      </g>\n     </g>\n    </g>\n    <g id=\"xtick_5\">\n     <g id=\"line2d_9\">\n      <path clip-path=\"url(#pf690ea5eda)\" d=\"M 362.983546 214.1312 \nL 362.983546 44.4288 \n\" style=\"fill:none;stroke:#cccccc;stroke-linecap:square;stroke-width:0.5;\"/>\n     </g>\n     <g id=\"line2d_10\">\n      <g>\n       <use style=\"stroke:#000000;stroke-width:0.8;\" x=\"362.983546\" xlink:href=\"#mb871551f50\" y=\"214.1312\"/>\n      </g>\n     </g>\n     <g id=\"text_5\">\n      <!-- 10.0 -->\n      <defs>\n       <path d=\"M 12.40625 8.296875 \nL 28.515625 8.296875 \nL 28.515625 63.921875 \nL 10.984375 60.40625 \nL 10.984375 69.390625 \nL 28.421875 72.90625 \nL 38.28125 72.90625 \nL 38.28125 8.296875 \nL 54.390625 8.296875 \nL 54.390625 0 \nL 12.40625 0 \nz\n\" id=\"DejaVuSans-49\"/>\n      </defs>\n      <g transform=\"translate(342.944483 240.808388)scale(0.18 -0.18)\">\n       <use xlink:href=\"#DejaVuSans-49\"/>\n       <use x=\"63.623047\" xlink:href=\"#DejaVuSans-48\"/>\n       <use x=\"127.246094\" xlink:href=\"#DejaVuSans-46\"/>\n       <use x=\"159.033203\" xlink:href=\"#DejaVuSans-48\"/>\n      </g>\n     </g>\n    </g>\n    <g id=\"text_6\">\n     <!-- $N$ -->\n     <defs>\n      <path d=\"M 16.890625 72.90625 \nL 30.171875 72.90625 \nL 50.296875 10.40625 \nL 62.5 72.90625 \nL 72.125 72.90625 \nL 57.90625 0 \nL 44.578125 0 \nL 24.515625 62.890625 \nL 12.3125 0 \nL 2.6875 0 \nz\n\" id=\"DejaVuSans-Oblique-78\"/>\n     </defs>\n     <g transform=\"translate(239.286641 269.82745)scale(0.28 -0.28)\">\n      <use transform=\"translate(0 0.09375)\" xlink:href=\"#DejaVuSans-Oblique-78\"/>\n     </g>\n    </g>\n   </g>\n   <g id=\"matplotlib.axis_2\">\n    <g id=\"ytick_1\">\n     <g id=\"line2d_11\">\n      <path clip-path=\"url(#pf690ea5eda)\" d=\"M 86.28 214.1312 \nL 413.293281 214.1312 \n\" style=\"fill:none;stroke:#cccccc;stroke-linecap:square;stroke-width:0.5;\"/>\n     </g>\n     <g id=\"line2d_12\">\n      <defs>\n       <path d=\"M 0 0 \nL -1 0 \n\" id=\"m3a7869a9c1\" style=\"stroke:#000000;stroke-width:0.8;\"/>\n      </defs>\n      <g>\n       <use style=\"stroke:#000000;stroke-width:0.8;\" x=\"86.28\" xlink:href=\"#m3a7869a9c1\" y=\"214.1312\"/>\n      </g>\n     </g>\n     <g id=\"text_7\">\n      <!-- $\\mathdefault{10^{-6}}$ -->\n      <defs>\n       <path d=\"M 10.59375 35.5 \nL 73.1875 35.5 \nL 73.1875 27.203125 \nL 10.59375 27.203125 \nz\n\" id=\"DejaVuSans-8722\"/>\n       <path d=\"M 33.015625 40.375 \nQ 26.375 40.375 22.484375 35.828125 \nQ 18.609375 31.296875 18.609375 23.390625 \nQ 18.609375 15.53125 22.484375 10.953125 \nQ 26.375 6.390625 33.015625 6.390625 \nQ 39.65625 6.390625 43.53125 10.953125 \nQ 47.40625 15.53125 47.40625 23.390625 \nQ 47.40625 31.296875 43.53125 35.828125 \nQ 39.65625 40.375 33.015625 40.375 \nz\nM 52.59375 71.296875 \nL 52.59375 62.3125 \nQ 48.875 64.0625 45.09375 64.984375 \nQ 41.3125 65.921875 37.59375 65.921875 \nQ 27.828125 65.921875 22.671875 59.328125 \nQ 17.53125 52.734375 16.796875 39.40625 \nQ 19.671875 43.65625 24.015625 45.921875 \nQ 28.375 48.1875 33.59375 48.1875 \nQ 44.578125 48.1875 50.953125 41.515625 \nQ 57.328125 34.859375 57.328125 23.390625 \nQ 57.328125 12.15625 50.6875 5.359375 \nQ 44.046875 -1.421875 33.015625 -1.421875 \nQ 20.359375 -1.421875 13.671875 8.265625 \nQ 6.984375 17.96875 6.984375 36.375 \nQ 6.984375 53.65625 15.1875 63.9375 \nQ 23.390625 74.21875 37.203125 74.21875 \nQ 40.921875 74.21875 44.703125 73.484375 \nQ 48.484375 72.75 52.59375 71.296875 \nz\n\" id=\"DejaVuSans-54\"/>\n      </defs>\n      <g transform=\"translate(39.48 220.969794)scale(0.18 -0.18)\">\n       <use transform=\"translate(0 0.765625)\" xlink:href=\"#DejaVuSans-49\"/>\n       <use transform=\"translate(63.623047 0.765625)\" xlink:href=\"#DejaVuSans-48\"/>\n       <use transform=\"translate(128.203125 39.046875)scale(0.7)\" xlink:href=\"#DejaVuSans-8722\"/>\n       <use transform=\"translate(186.855469 39.046875)scale(0.7)\" xlink:href=\"#DejaVuSans-54\"/>\n      </g>\n     </g>\n    </g>\n    <g id=\"ytick_2\">\n     <g id=\"line2d_13\">\n      <path clip-path=\"url(#pf690ea5eda)\" d=\"M 86.28 157.563733 \nL 413.293281 157.563733 \n\" style=\"fill:none;stroke:#cccccc;stroke-linecap:square;stroke-width:0.5;\"/>\n     </g>\n     <g id=\"line2d_14\">\n      <g>\n       <use style=\"stroke:#000000;stroke-width:0.8;\" x=\"86.28\" xlink:href=\"#m3a7869a9c1\" y=\"157.563733\"/>\n      </g>\n     </g>\n     <g id=\"text_8\">\n      <!-- $\\mathdefault{10^{-4}}$ -->\n      <defs>\n       <path d=\"M 37.796875 64.3125 \nL 12.890625 25.390625 \nL 37.796875 25.390625 \nz\nM 35.203125 72.90625 \nL 47.609375 72.90625 \nL 47.609375 25.390625 \nL 58.015625 25.390625 \nL 58.015625 17.1875 \nL 47.609375 17.1875 \nL 47.609375 0 \nL 37.796875 0 \nL 37.796875 17.1875 \nL 4.890625 17.1875 \nL 4.890625 26.703125 \nz\n\" id=\"DejaVuSans-52\"/>\n      </defs>\n      <g transform=\"translate(39.48 164.402327)scale(0.18 -0.18)\">\n       <use transform=\"translate(0 0.684375)\" xlink:href=\"#DejaVuSans-49\"/>\n       <use transform=\"translate(63.623047 0.684375)\" xlink:href=\"#DejaVuSans-48\"/>\n       <use transform=\"translate(128.203125 38.965625)scale(0.7)\" xlink:href=\"#DejaVuSans-8722\"/>\n       <use transform=\"translate(186.855469 38.965625)scale(0.7)\" xlink:href=\"#DejaVuSans-52\"/>\n      </g>\n     </g>\n    </g>\n    <g id=\"ytick_3\">\n     <g id=\"line2d_15\">\n      <path clip-path=\"url(#pf690ea5eda)\" d=\"M 86.28 100.996267 \nL 413.293281 100.996267 \n\" style=\"fill:none;stroke:#cccccc;stroke-linecap:square;stroke-width:0.5;\"/>\n     </g>\n     <g id=\"line2d_16\">\n      <g>\n       <use style=\"stroke:#000000;stroke-width:0.8;\" x=\"86.28\" xlink:href=\"#m3a7869a9c1\" y=\"100.996267\"/>\n      </g>\n     </g>\n     <g id=\"text_9\">\n      <!-- $\\mathdefault{10^{-2}}$ -->\n      <g transform=\"translate(39.48 107.83486)scale(0.18 -0.18)\">\n       <use transform=\"translate(0 0.765625)\" xlink:href=\"#DejaVuSans-49\"/>\n       <use transform=\"translate(63.623047 0.765625)\" xlink:href=\"#DejaVuSans-48\"/>\n       <use transform=\"translate(128.203125 39.046875)scale(0.7)\" xlink:href=\"#DejaVuSans-8722\"/>\n       <use transform=\"translate(186.855469 39.046875)scale(0.7)\" xlink:href=\"#DejaVuSans-50\"/>\n      </g>\n     </g>\n    </g>\n    <g id=\"ytick_4\">\n     <g id=\"line2d_17\">\n      <path clip-path=\"url(#pf690ea5eda)\" d=\"M 86.28 44.4288 \nL 413.293281 44.4288 \n\" style=\"fill:none;stroke:#cccccc;stroke-linecap:square;stroke-width:0.5;\"/>\n     </g>\n     <g id=\"line2d_18\">\n      <g>\n       <use style=\"stroke:#000000;stroke-width:0.8;\" x=\"86.28\" xlink:href=\"#m3a7869a9c1\" y=\"44.4288\"/>\n      </g>\n     </g>\n     <g id=\"text_10\">\n      <!-- $\\mathdefault{10^{0}}$ -->\n      <g transform=\"translate(50.1 51.267394)scale(0.18 -0.18)\">\n       <use transform=\"translate(0 0.765625)\" xlink:href=\"#DejaVuSans-49\"/>\n       <use transform=\"translate(63.623047 0.765625)\" xlink:href=\"#DejaVuSans-48\"/>\n       <use transform=\"translate(128.203125 39.046875)scale(0.7)\" xlink:href=\"#DejaVuSans-48\"/>\n      </g>\n     </g>\n    </g>\n    <g id=\"text_11\">\n     <!-- $|E_{N+1} - E_{N}|/ E_{N+1}$  -->\n     <defs>\n      <path d=\"M 21 76.421875 \nL 21 -23.578125 \nL 12.703125 -23.578125 \nL 12.703125 76.421875 \nz\n\" id=\"DejaVuSans-124\"/>\n      <path d=\"M 16.890625 72.90625 \nL 62.984375 72.90625 \nL 61.375 64.59375 \nL 25.09375 64.59375 \nL 20.90625 43.015625 \nL 55.71875 43.015625 \nL 54.109375 34.71875 \nL 19.28125 34.71875 \nL 14.203125 8.296875 \nL 51.3125 8.296875 \nL 49.703125 0 \nL 2.6875 0 \nz\n\" id=\"DejaVuSans-Oblique-69\"/>\n      <path d=\"M 46 62.703125 \nL 46 35.5 \nL 73.1875 35.5 \nL 73.1875 27.203125 \nL 46 27.203125 \nL 46 0 \nL 37.796875 0 \nL 37.796875 27.203125 \nL 10.59375 27.203125 \nL 10.59375 35.5 \nL 37.796875 35.5 \nL 37.796875 62.703125 \nz\n\" id=\"DejaVuSans-43\"/>\n      <path d=\"M 25.390625 72.90625 \nL 33.6875 72.90625 \nL 8.296875 -9.28125 \nL 0 -9.28125 \nz\n\" id=\"DejaVuSans-47\"/>\n      <path id=\"DejaVuSans-32\"/>\n     </defs>\n     <g transform=\"translate(28.76 251.36)rotate(-90)scale(0.28 -0.28)\">\n      <use transform=\"translate(0 0.578125)\" xlink:href=\"#DejaVuSans-124\"/>\n      <use transform=\"translate(33.691406 0.578125)\" xlink:href=\"#DejaVuSans-Oblique-69\"/>\n      <use transform=\"translate(96.875 -15.828125)scale(0.7)\" xlink:href=\"#DejaVuSans-Oblique-78\"/>\n      <use transform=\"translate(162.875977 -15.828125)scale(0.7)\" xlink:href=\"#DejaVuSans-43\"/>\n      <use transform=\"translate(235.166016 -15.828125)scale(0.7)\" xlink:href=\"#DejaVuSans-49\"/>\n      <use transform=\"translate(301.918945 0.578125)\" xlink:href=\"#DejaVuSans-8722\"/>\n      <use transform=\"translate(405.19043 0.578125)\" xlink:href=\"#DejaVuSans-Oblique-69\"/>\n      <use transform=\"translate(468.374023 -15.828125)scale(0.7)\" xlink:href=\"#DejaVuSans-Oblique-78\"/>\n      <use transform=\"translate(523.47168 0.578125)\" xlink:href=\"#DejaVuSans-124\"/>\n      <use transform=\"translate(557.163086 0.578125)\" xlink:href=\"#DejaVuSans-47\"/>\n      <use transform=\"translate(590.854492 0.578125)\" xlink:href=\"#DejaVuSans-Oblique-69\"/>\n      <use transform=\"translate(654.038086 -15.828125)scale(0.7)\" xlink:href=\"#DejaVuSans-Oblique-78\"/>\n      <use transform=\"translate(720.039062 -15.828125)scale(0.7)\" xlink:href=\"#DejaVuSans-43\"/>\n      <use transform=\"translate(792.329102 -15.828125)scale(0.7)\" xlink:href=\"#DejaVuSans-49\"/>\n      <use transform=\"translate(839.599609 0.578125)\" xlink:href=\"#DejaVuSans-32\"/>\n     </g>\n    </g>\n   </g>\n   <g id=\"line2d_19\">\n    <path clip-path=\"url(#pf690ea5eda)\" d=\"M 111.434868 59.652572 \nL 136.589736 84.443841 \nL 161.744603 94.162397 \nL 186.899471 81.931893 \nL 212.054339 93.097313 \nL 237.209207 106.866892 \nL 262.364075 106.810329 \nL 287.518942 118.384697 \nL 312.67381 121.481065 \nL 337.828678 141.897743 \nL 362.983546 151.965402 \nL 388.138413 142.77421 \n\" style=\"fill:none;stroke:#0000ff;stroke-linecap:square;stroke-width:1.5;\"/>\n    <defs>\n     <path d=\"M -3 3 \nL 3 -3 \nM -3 -3 \nL 3 3 \n\" id=\"m55ca76f444\" style=\"stroke:#0000ff;\"/>\n    </defs>\n    <g clip-path=\"url(#pf690ea5eda)\">\n     <use style=\"fill:#0000ff;stroke:#0000ff;\" x=\"111.434868\" xlink:href=\"#m55ca76f444\" y=\"59.652572\"/>\n     <use style=\"fill:#0000ff;stroke:#0000ff;\" x=\"136.589736\" xlink:href=\"#m55ca76f444\" y=\"84.443841\"/>\n     <use style=\"fill:#0000ff;stroke:#0000ff;\" x=\"161.744603\" xlink:href=\"#m55ca76f444\" y=\"94.162397\"/>\n     <use style=\"fill:#0000ff;stroke:#0000ff;\" x=\"186.899471\" xlink:href=\"#m55ca76f444\" y=\"81.931893\"/>\n     <use style=\"fill:#0000ff;stroke:#0000ff;\" x=\"212.054339\" xlink:href=\"#m55ca76f444\" y=\"93.097313\"/>\n     <use style=\"fill:#0000ff;stroke:#0000ff;\" x=\"237.209207\" xlink:href=\"#m55ca76f444\" y=\"106.866892\"/>\n     <use style=\"fill:#0000ff;stroke:#0000ff;\" x=\"262.364075\" xlink:href=\"#m55ca76f444\" y=\"106.810329\"/>\n     <use style=\"fill:#0000ff;stroke:#0000ff;\" x=\"287.518942\" xlink:href=\"#m55ca76f444\" y=\"118.384697\"/>\n     <use style=\"fill:#0000ff;stroke:#0000ff;\" x=\"312.67381\" xlink:href=\"#m55ca76f444\" y=\"121.481065\"/>\n     <use style=\"fill:#0000ff;stroke:#0000ff;\" x=\"337.828678\" xlink:href=\"#m55ca76f444\" y=\"141.897743\"/>\n     <use style=\"fill:#0000ff;stroke:#0000ff;\" x=\"362.983546\" xlink:href=\"#m55ca76f444\" y=\"151.965402\"/>\n     <use style=\"fill:#0000ff;stroke:#0000ff;\" x=\"388.138413\" xlink:href=\"#m55ca76f444\" y=\"142.77421\"/>\n    </g>\n   </g>\n   <g id=\"line2d_20\">\n    <path clip-path=\"url(#pf690ea5eda)\" d=\"M 111.434868 51.294432 \nL 136.589736 53.657691 \nL 161.744603 48.563805 \nL 186.899471 50.74667 \nL 212.054339 71.327791 \nL 237.209207 74.666943 \nL 262.364075 68.558298 \nL 287.518942 83.133411 \nL 312.67381 84.666467 \nL 337.828678 132.057083 \nL 362.983546 150.736083 \nL 388.138413 115.325691 \n\" style=\"fill:none;stroke:#ff0000;stroke-linecap:square;stroke-width:1.5;\"/>\n    <defs>\n     <path d=\"M 0 3 \nC 0.795609 3 1.55874 2.683901 2.12132 2.12132 \nC 2.683901 1.55874 3 0.795609 3 0 \nC 3 -0.795609 2.683901 -1.55874 2.12132 -2.12132 \nC 1.55874 -2.683901 0.795609 -3 0 -3 \nC -0.795609 -3 -1.55874 -2.683901 -2.12132 -2.12132 \nC -2.683901 -1.55874 -3 -0.795609 -3 0 \nC -3 0.795609 -2.683901 1.55874 -2.12132 2.12132 \nC -1.55874 2.683901 -0.795609 3 0 3 \nz\n\" id=\"m9fa278a20a\" style=\"stroke:#ff0000;\"/>\n    </defs>\n    <g clip-path=\"url(#pf690ea5eda)\">\n     <use style=\"fill:#ff0000;stroke:#ff0000;\" x=\"111.434868\" xlink:href=\"#m9fa278a20a\" y=\"51.294432\"/>\n     <use style=\"fill:#ff0000;stroke:#ff0000;\" x=\"136.589736\" xlink:href=\"#m9fa278a20a\" y=\"53.657691\"/>\n     <use style=\"fill:#ff0000;stroke:#ff0000;\" x=\"161.744603\" xlink:href=\"#m9fa278a20a\" y=\"48.563805\"/>\n     <use style=\"fill:#ff0000;stroke:#ff0000;\" x=\"186.899471\" xlink:href=\"#m9fa278a20a\" y=\"50.74667\"/>\n     <use style=\"fill:#ff0000;stroke:#ff0000;\" x=\"212.054339\" xlink:href=\"#m9fa278a20a\" y=\"71.327791\"/>\n     <use style=\"fill:#ff0000;stroke:#ff0000;\" x=\"237.209207\" xlink:href=\"#m9fa278a20a\" y=\"74.666943\"/>\n     <use style=\"fill:#ff0000;stroke:#ff0000;\" x=\"262.364075\" xlink:href=\"#m9fa278a20a\" y=\"68.558298\"/>\n     <use style=\"fill:#ff0000;stroke:#ff0000;\" x=\"287.518942\" xlink:href=\"#m9fa278a20a\" y=\"83.133411\"/>\n     <use style=\"fill:#ff0000;stroke:#ff0000;\" x=\"312.67381\" xlink:href=\"#m9fa278a20a\" y=\"84.666467\"/>\n     <use style=\"fill:#ff0000;stroke:#ff0000;\" x=\"337.828678\" xlink:href=\"#m9fa278a20a\" y=\"132.057083\"/>\n     <use style=\"fill:#ff0000;stroke:#ff0000;\" x=\"362.983546\" xlink:href=\"#m9fa278a20a\" y=\"150.736083\"/>\n     <use style=\"fill:#ff0000;stroke:#ff0000;\" x=\"388.138413\" xlink:href=\"#m9fa278a20a\" y=\"115.325691\"/>\n    </g>\n   </g>\n   <g id=\"patch_3\">\n    <path d=\"M 86.28 214.1312 \nL 86.28 44.4288 \n\" style=\"fill:none;stroke:#000000;stroke-linecap:square;stroke-linejoin:miter;stroke-width:0.8;\"/>\n   </g>\n   <g id=\"patch_4\">\n    <path d=\"M 413.293281 214.1312 \nL 413.293281 44.4288 \n\" style=\"fill:none;stroke:#000000;stroke-linecap:square;stroke-linejoin:miter;stroke-width:0.8;\"/>\n   </g>\n   <g id=\"patch_5\">\n    <path d=\"M 86.28 214.1312 \nL 413.293281 214.1312 \n\" style=\"fill:none;stroke:#000000;stroke-linecap:square;stroke-linejoin:miter;stroke-width:0.8;\"/>\n   </g>\n   <g id=\"patch_6\">\n    <path d=\"M 86.28 44.4288 \nL 413.293281 44.4288 \n\" style=\"fill:none;stroke:#000000;stroke-linecap:square;stroke-linejoin:miter;stroke-width:0.8;\"/>\n   </g>\n   <g id=\"text_12\">\n    <!-- Effective Isotropic AlGaAs -->\n    <defs>\n     <path d=\"M 9.8125 72.90625 \nL 55.90625 72.90625 \nL 55.90625 64.59375 \nL 19.671875 64.59375 \nL 19.671875 43.015625 \nL 54.390625 43.015625 \nL 54.390625 34.71875 \nL 19.671875 34.71875 \nL 19.671875 8.296875 \nL 56.78125 8.296875 \nL 56.78125 0 \nL 9.8125 0 \nz\n\" id=\"DejaVuSans-69\"/>\n     <path d=\"M 37.109375 75.984375 \nL 37.109375 68.5 \nL 28.515625 68.5 \nQ 23.6875 68.5 21.796875 66.546875 \nQ 19.921875 64.59375 19.921875 59.515625 \nL 19.921875 54.6875 \nL 34.71875 54.6875 \nL 34.71875 47.703125 \nL 19.921875 47.703125 \nL 19.921875 0 \nL 10.890625 0 \nL 10.890625 47.703125 \nL 2.296875 47.703125 \nL 2.296875 54.6875 \nL 10.890625 54.6875 \nL 10.890625 58.5 \nQ 10.890625 67.625 15.140625 71.796875 \nQ 19.390625 75.984375 28.609375 75.984375 \nz\n\" id=\"DejaVuSans-102\"/>\n     <path d=\"M 56.203125 29.59375 \nL 56.203125 25.203125 \nL 14.890625 25.203125 \nQ 15.484375 15.921875 20.484375 11.0625 \nQ 25.484375 6.203125 34.421875 6.203125 \nQ 39.59375 6.203125 44.453125 7.46875 \nQ 49.3125 8.734375 54.109375 11.28125 \nL 54.109375 2.78125 \nQ 49.265625 0.734375 44.1875 -0.34375 \nQ 39.109375 -1.421875 33.890625 -1.421875 \nQ 20.796875 -1.421875 13.15625 6.1875 \nQ 5.515625 13.8125 5.515625 26.8125 \nQ 5.515625 40.234375 12.765625 48.109375 \nQ 20.015625 56 32.328125 56 \nQ 43.359375 56 49.78125 48.890625 \nQ 56.203125 41.796875 56.203125 29.59375 \nz\nM 47.21875 32.234375 \nQ 47.125 39.59375 43.09375 43.984375 \nQ 39.0625 48.390625 32.421875 48.390625 \nQ 24.90625 48.390625 20.390625 44.140625 \nQ 15.875 39.890625 15.1875 32.171875 \nz\n\" id=\"DejaVuSans-101\"/>\n     <path d=\"M 48.78125 52.59375 \nL 48.78125 44.1875 \nQ 44.96875 46.296875 41.140625 47.34375 \nQ 37.3125 48.390625 33.40625 48.390625 \nQ 24.65625 48.390625 19.8125 42.84375 \nQ 14.984375 37.3125 14.984375 27.296875 \nQ 14.984375 17.28125 19.8125 11.734375 \nQ 24.65625 6.203125 33.40625 6.203125 \nQ 37.3125 6.203125 41.140625 7.25 \nQ 44.96875 8.296875 48.78125 10.40625 \nL 48.78125 2.09375 \nQ 45.015625 0.34375 40.984375 -0.53125 \nQ 36.96875 -1.421875 32.421875 -1.421875 \nQ 20.0625 -1.421875 12.78125 6.34375 \nQ 5.515625 14.109375 5.515625 27.296875 \nQ 5.515625 40.671875 12.859375 48.328125 \nQ 20.21875 56 33.015625 56 \nQ 37.15625 56 41.109375 55.140625 \nQ 45.0625 54.296875 48.78125 52.59375 \nz\n\" id=\"DejaVuSans-99\"/>\n     <path d=\"M 18.3125 70.21875 \nL 18.3125 54.6875 \nL 36.8125 54.6875 \nL 36.8125 47.703125 \nL 18.3125 47.703125 \nL 18.3125 18.015625 \nQ 18.3125 11.328125 20.140625 9.421875 \nQ 21.96875 7.515625 27.59375 7.515625 \nL 36.8125 7.515625 \nL 36.8125 0 \nL 27.59375 0 \nQ 17.1875 0 13.234375 3.875 \nQ 9.28125 7.765625 9.28125 18.015625 \nL 9.28125 47.703125 \nL 2.6875 47.703125 \nL 2.6875 54.6875 \nL 9.28125 54.6875 \nL 9.28125 70.21875 \nz\n\" id=\"DejaVuSans-116\"/>\n     <path d=\"M 9.421875 54.6875 \nL 18.40625 54.6875 \nL 18.40625 0 \nL 9.421875 0 \nz\nM 9.421875 75.984375 \nL 18.40625 75.984375 \nL 18.40625 64.59375 \nL 9.421875 64.59375 \nz\n\" id=\"DejaVuSans-105\"/>\n     <path d=\"M 2.984375 54.6875 \nL 12.5 54.6875 \nL 29.59375 8.796875 \nL 46.6875 54.6875 \nL 56.203125 54.6875 \nL 35.6875 0 \nL 23.484375 0 \nz\n\" id=\"DejaVuSans-118\"/>\n     <path d=\"M 9.8125 72.90625 \nL 19.671875 72.90625 \nL 19.671875 0 \nL 9.8125 0 \nz\n\" id=\"DejaVuSans-73\"/>\n     <path d=\"M 44.28125 53.078125 \nL 44.28125 44.578125 \nQ 40.484375 46.53125 36.375 47.5 \nQ 32.28125 48.484375 27.875 48.484375 \nQ 21.1875 48.484375 17.84375 46.4375 \nQ 14.5 44.390625 14.5 40.28125 \nQ 14.5 37.15625 16.890625 35.375 \nQ 19.28125 33.59375 26.515625 31.984375 \nL 29.59375 31.296875 \nQ 39.15625 29.25 43.1875 25.515625 \nQ 47.21875 21.78125 47.21875 15.09375 \nQ 47.21875 7.46875 41.1875 3.015625 \nQ 35.15625 -1.421875 24.609375 -1.421875 \nQ 20.21875 -1.421875 15.453125 -0.5625 \nQ 10.6875 0.296875 5.421875 2 \nL 5.421875 11.28125 \nQ 10.40625 8.6875 15.234375 7.390625 \nQ 20.0625 6.109375 24.8125 6.109375 \nQ 31.15625 6.109375 34.5625 8.28125 \nQ 37.984375 10.453125 37.984375 14.40625 \nQ 37.984375 18.0625 35.515625 20.015625 \nQ 33.0625 21.96875 24.703125 23.78125 \nL 21.578125 24.515625 \nQ 13.234375 26.265625 9.515625 29.90625 \nQ 5.8125 33.546875 5.8125 39.890625 \nQ 5.8125 47.609375 11.28125 51.796875 \nQ 16.75 56 26.8125 56 \nQ 31.78125 56 36.171875 55.265625 \nQ 40.578125 54.546875 44.28125 53.078125 \nz\n\" id=\"DejaVuSans-115\"/>\n     <path d=\"M 30.609375 48.390625 \nQ 23.390625 48.390625 19.1875 42.75 \nQ 14.984375 37.109375 14.984375 27.296875 \nQ 14.984375 17.484375 19.15625 11.84375 \nQ 23.34375 6.203125 30.609375 6.203125 \nQ 37.796875 6.203125 41.984375 11.859375 \nQ 46.1875 17.53125 46.1875 27.296875 \nQ 46.1875 37.015625 41.984375 42.703125 \nQ 37.796875 48.390625 30.609375 48.390625 \nz\nM 30.609375 56 \nQ 42.328125 56 49.015625 48.375 \nQ 55.71875 40.765625 55.71875 27.296875 \nQ 55.71875 13.875 49.015625 6.21875 \nQ 42.328125 -1.421875 30.609375 -1.421875 \nQ 18.84375 -1.421875 12.171875 6.21875 \nQ 5.515625 13.875 5.515625 27.296875 \nQ 5.515625 40.765625 12.171875 48.375 \nQ 18.84375 56 30.609375 56 \nz\n\" id=\"DejaVuSans-111\"/>\n     <path d=\"M 41.109375 46.296875 \nQ 39.59375 47.171875 37.8125 47.578125 \nQ 36.03125 48 33.890625 48 \nQ 26.265625 48 22.1875 43.046875 \nQ 18.109375 38.09375 18.109375 28.8125 \nL 18.109375 0 \nL 9.078125 0 \nL 9.078125 54.6875 \nL 18.109375 54.6875 \nL 18.109375 46.1875 \nQ 20.953125 51.171875 25.484375 53.578125 \nQ 30.03125 56 36.53125 56 \nQ 37.453125 56 38.578125 55.875 \nQ 39.703125 55.765625 41.0625 55.515625 \nz\n\" id=\"DejaVuSans-114\"/>\n     <path d=\"M 18.109375 8.203125 \nL 18.109375 -20.796875 \nL 9.078125 -20.796875 \nL 9.078125 54.6875 \nL 18.109375 54.6875 \nL 18.109375 46.390625 \nQ 20.953125 51.265625 25.265625 53.625 \nQ 29.59375 56 35.59375 56 \nQ 45.5625 56 51.78125 48.09375 \nQ 58.015625 40.1875 58.015625 27.296875 \nQ 58.015625 14.40625 51.78125 6.484375 \nQ 45.5625 -1.421875 35.59375 -1.421875 \nQ 29.59375 -1.421875 25.265625 0.953125 \nQ 20.953125 3.328125 18.109375 8.203125 \nz\nM 48.6875 27.296875 \nQ 48.6875 37.203125 44.609375 42.84375 \nQ 40.53125 48.484375 33.40625 48.484375 \nQ 26.265625 48.484375 22.1875 42.84375 \nQ 18.109375 37.203125 18.109375 27.296875 \nQ 18.109375 17.390625 22.1875 11.75 \nQ 26.265625 6.109375 33.40625 6.109375 \nQ 40.53125 6.109375 44.609375 11.75 \nQ 48.6875 17.390625 48.6875 27.296875 \nz\n\" id=\"DejaVuSans-112\"/>\n     <path d=\"M 34.1875 63.1875 \nL 20.796875 26.90625 \nL 47.609375 26.90625 \nz\nM 28.609375 72.90625 \nL 39.796875 72.90625 \nL 67.578125 0 \nL 57.328125 0 \nL 50.6875 18.703125 \nL 17.828125 18.703125 \nL 11.1875 0 \nL 0.78125 0 \nz\n\" id=\"DejaVuSans-65\"/>\n     <path d=\"M 9.421875 75.984375 \nL 18.40625 75.984375 \nL 18.40625 0 \nL 9.421875 0 \nz\n\" id=\"DejaVuSans-108\"/>\n     <path d=\"M 59.515625 10.40625 \nL 59.515625 29.984375 \nL 43.40625 29.984375 \nL 43.40625 38.09375 \nL 69.28125 38.09375 \nL 69.28125 6.78125 \nQ 63.578125 2.734375 56.6875 0.65625 \nQ 49.8125 -1.421875 42 -1.421875 \nQ 24.90625 -1.421875 15.25 8.5625 \nQ 5.609375 18.5625 5.609375 36.375 \nQ 5.609375 54.25 15.25 64.234375 \nQ 24.90625 74.21875 42 74.21875 \nQ 49.125 74.21875 55.546875 72.453125 \nQ 61.96875 70.703125 67.390625 67.28125 \nL 67.390625 56.78125 \nQ 61.921875 61.421875 55.765625 63.765625 \nQ 49.609375 66.109375 42.828125 66.109375 \nQ 29.4375 66.109375 22.71875 58.640625 \nQ 16.015625 51.171875 16.015625 36.375 \nQ 16.015625 21.625 22.71875 14.15625 \nQ 29.4375 6.6875 42.828125 6.6875 \nQ 48.046875 6.6875 52.140625 7.59375 \nQ 56.25 8.5 59.515625 10.40625 \nz\n\" id=\"DejaVuSans-71\"/>\n     <path d=\"M 34.28125 27.484375 \nQ 23.390625 27.484375 19.1875 25 \nQ 14.984375 22.515625 14.984375 16.5 \nQ 14.984375 11.71875 18.140625 8.90625 \nQ 21.296875 6.109375 26.703125 6.109375 \nQ 34.1875 6.109375 38.703125 11.40625 \nQ 43.21875 16.703125 43.21875 25.484375 \nL 43.21875 27.484375 \nz\nM 52.203125 31.203125 \nL 52.203125 0 \nL 43.21875 0 \nL 43.21875 8.296875 \nQ 40.140625 3.328125 35.546875 0.953125 \nQ 30.953125 -1.421875 24.3125 -1.421875 \nQ 15.921875 -1.421875 10.953125 3.296875 \nQ 6 8.015625 6 15.921875 \nQ 6 25.140625 12.171875 29.828125 \nQ 18.359375 34.515625 30.609375 34.515625 \nL 43.21875 34.515625 \nL 43.21875 35.40625 \nQ 43.21875 41.609375 39.140625 45 \nQ 35.0625 48.390625 27.6875 48.390625 \nQ 23 48.390625 18.546875 47.265625 \nQ 14.109375 46.140625 10.015625 43.890625 \nL 10.015625 52.203125 \nQ 14.9375 54.109375 19.578125 55.046875 \nQ 24.21875 56 28.609375 56 \nQ 40.484375 56 46.34375 49.84375 \nQ 52.203125 43.703125 52.203125 31.203125 \nz\n\" id=\"DejaVuSans-97\"/>\n    </defs>\n    <g transform=\"translate(88.870625 31.640704)scale(0.25 -0.25)\">\n     <use xlink:href=\"#DejaVuSans-69\"/>\n     <use x=\"63.183594\" xlink:href=\"#DejaVuSans-102\"/>\n     <use x=\"98.388672\" xlink:href=\"#DejaVuSans-102\"/>\n     <use x=\"133.59375\" xlink:href=\"#DejaVuSans-101\"/>\n     <use x=\"195.117188\" xlink:href=\"#DejaVuSans-99\"/>\n     <use x=\"250.097656\" xlink:href=\"#DejaVuSans-116\"/>\n     <use x=\"289.306641\" xlink:href=\"#DejaVuSans-105\"/>\n     <use x=\"317.089844\" xlink:href=\"#DejaVuSans-118\"/>\n     <use x=\"376.269531\" xlink:href=\"#DejaVuSans-101\"/>\n     <use x=\"437.792969\" xlink:href=\"#DejaVuSans-32\"/>\n     <use x=\"469.580078\" xlink:href=\"#DejaVuSans-73\"/>\n     <use x=\"499.072266\" xlink:href=\"#DejaVuSans-115\"/>\n     <use x=\"551.171875\" xlink:href=\"#DejaVuSans-111\"/>\n     <use x=\"612.353516\" xlink:href=\"#DejaVuSans-116\"/>\n     <use x=\"651.5625\" xlink:href=\"#DejaVuSans-114\"/>\n     <use x=\"692.644531\" xlink:href=\"#DejaVuSans-111\"/>\n     <use x=\"753.826172\" xlink:href=\"#DejaVuSans-112\"/>\n     <use x=\"817.302734\" xlink:href=\"#DejaVuSans-105\"/>\n     <use x=\"845.085938\" xlink:href=\"#DejaVuSans-99\"/>\n     <use x=\"900.066406\" xlink:href=\"#DejaVuSans-32\"/>\n     <use x=\"931.853516\" xlink:href=\"#DejaVuSans-65\"/>\n     <use x=\"1000.261719\" xlink:href=\"#DejaVuSans-108\"/>\n     <use x=\"1028.044922\" xlink:href=\"#DejaVuSans-71\"/>\n     <use x=\"1105.535156\" xlink:href=\"#DejaVuSans-97\"/>\n     <use x=\"1166.814453\" xlink:href=\"#DejaVuSans-65\"/>\n     <use x=\"1235.222656\" xlink:href=\"#DejaVuSans-115\"/>\n    </g>\n   </g>\n   <g id=\"legend_1\">\n    <g id=\"patch_7\">\n     <path d=\"M 96.08 207.1312 \nL 248.4175 207.1312 \nQ 251.2175 207.1312 251.2175 204.3312 \nL 251.2175 164.63245 \nQ 251.2175 161.83245 248.4175 161.83245 \nL 96.08 161.83245 \nQ 93.28 161.83245 93.28 164.63245 \nL 93.28 204.3312 \nQ 93.28 207.1312 96.08 207.1312 \nz\n\" style=\"fill:#ffffff;opacity:0.8;stroke:#cccccc;stroke-linejoin:miter;\"/>\n    </g>\n    <g id=\"line2d_21\">\n     <path d=\"M 98.88 173.170263 \nL 126.88 173.170263 \n\" style=\"fill:none;stroke:#0000ff;stroke-linecap:square;stroke-width:1.5;\"/>\n    </g>\n    <g id=\"line2d_22\">\n     <g>\n      <use style=\"fill:#0000ff;stroke:#0000ff;\" x=\"112.88\" xlink:href=\"#m55ca76f444\" y=\"173.170263\"/>\n     </g>\n    </g>\n    <g id=\"text_13\">\n     <!-- Total energy -->\n     <defs>\n      <path d=\"M -0.296875 72.90625 \nL 61.375 72.90625 \nL 61.375 64.59375 \nL 35.5 64.59375 \nL 35.5 0 \nL 25.59375 0 \nL 25.59375 64.59375 \nL -0.296875 64.59375 \nz\n\" id=\"DejaVuSans-84\"/>\n      <path d=\"M 54.890625 33.015625 \nL 54.890625 0 \nL 45.90625 0 \nL 45.90625 32.71875 \nQ 45.90625 40.484375 42.875 44.328125 \nQ 39.84375 48.1875 33.796875 48.1875 \nQ 26.515625 48.1875 22.3125 43.546875 \nQ 18.109375 38.921875 18.109375 30.90625 \nL 18.109375 0 \nL 9.078125 0 \nL 9.078125 54.6875 \nL 18.109375 54.6875 \nL 18.109375 46.1875 \nQ 21.34375 51.125 25.703125 53.5625 \nQ 30.078125 56 35.796875 56 \nQ 45.21875 56 50.046875 50.171875 \nQ 54.890625 44.34375 54.890625 33.015625 \nz\n\" id=\"DejaVuSans-110\"/>\n      <path d=\"M 45.40625 27.984375 \nQ 45.40625 37.75 41.375 43.109375 \nQ 37.359375 48.484375 30.078125 48.484375 \nQ 22.859375 48.484375 18.828125 43.109375 \nQ 14.796875 37.75 14.796875 27.984375 \nQ 14.796875 18.265625 18.828125 12.890625 \nQ 22.859375 7.515625 30.078125 7.515625 \nQ 37.359375 7.515625 41.375 12.890625 \nQ 45.40625 18.265625 45.40625 27.984375 \nz\nM 54.390625 6.78125 \nQ 54.390625 -7.171875 48.1875 -13.984375 \nQ 42 -20.796875 29.203125 -20.796875 \nQ 24.46875 -20.796875 20.265625 -20.09375 \nQ 16.0625 -19.390625 12.109375 -17.921875 \nL 12.109375 -9.1875 \nQ 16.0625 -11.328125 19.921875 -12.34375 \nQ 23.78125 -13.375 27.78125 -13.375 \nQ 36.625 -13.375 41.015625 -8.765625 \nQ 45.40625 -4.15625 45.40625 5.171875 \nL 45.40625 9.625 \nQ 42.625 4.78125 38.28125 2.390625 \nQ 33.9375 0 27.875 0 \nQ 17.828125 0 11.671875 7.65625 \nQ 5.515625 15.328125 5.515625 27.984375 \nQ 5.515625 40.671875 11.671875 48.328125 \nQ 17.828125 56 27.875 56 \nQ 33.9375 56 38.28125 53.609375 \nQ 42.625 51.21875 45.40625 46.390625 \nL 45.40625 54.6875 \nL 54.390625 54.6875 \nz\n\" id=\"DejaVuSans-103\"/>\n      <path d=\"M 32.171875 -5.078125 \nQ 28.375 -14.84375 24.75 -17.8125 \nQ 21.140625 -20.796875 15.09375 -20.796875 \nL 7.90625 -20.796875 \nL 7.90625 -13.28125 \nL 13.1875 -13.28125 \nQ 16.890625 -13.28125 18.9375 -11.515625 \nQ 21 -9.765625 23.484375 -3.21875 \nL 25.09375 0.875 \nL 2.984375 54.6875 \nL 12.5 54.6875 \nL 29.59375 11.921875 \nL 46.6875 54.6875 \nL 56.203125 54.6875 \nz\n\" id=\"DejaVuSans-121\"/>\n     </defs>\n     <g transform=\"translate(138.08 178.070263)scale(0.14 -0.14)\">\n      <use xlink:href=\"#DejaVuSans-84\"/>\n      <use x=\"60.818359\" xlink:href=\"#DejaVuSans-111\"/>\n      <use x=\"122\" xlink:href=\"#DejaVuSans-116\"/>\n      <use x=\"161.208984\" xlink:href=\"#DejaVuSans-97\"/>\n      <use x=\"222.488281\" xlink:href=\"#DejaVuSans-108\"/>\n      <use x=\"250.271484\" xlink:href=\"#DejaVuSans-32\"/>\n      <use x=\"282.058594\" xlink:href=\"#DejaVuSans-101\"/>\n      <use x=\"343.582031\" xlink:href=\"#DejaVuSans-110\"/>\n      <use x=\"406.960938\" xlink:href=\"#DejaVuSans-101\"/>\n      <use x=\"468.484375\" xlink:href=\"#DejaVuSans-114\"/>\n      <use x=\"509.582031\" xlink:href=\"#DejaVuSans-103\"/>\n      <use x=\"573.058594\" xlink:href=\"#DejaVuSans-121\"/>\n     </g>\n    </g>\n    <g id=\"line2d_23\">\n     <path d=\"M 98.88 193.719638 \nL 126.88 193.719638 \n\" style=\"fill:none;stroke:#ff0000;stroke-linecap:square;stroke-width:1.5;\"/>\n    </g>\n    <g id=\"line2d_24\">\n     <g>\n      <use style=\"fill:#ff0000;stroke:#ff0000;\" x=\"112.88\" xlink:href=\"#m9fa278a20a\" y=\"193.719638\"/>\n     </g>\n    </g>\n    <g id=\"text_14\">\n     <!-- Coating energy -->\n     <defs>\n      <path d=\"M 64.40625 67.28125 \nL 64.40625 56.890625 \nQ 59.421875 61.53125 53.78125 63.8125 \nQ 48.140625 66.109375 41.796875 66.109375 \nQ 29.296875 66.109375 22.65625 58.46875 \nQ 16.015625 50.828125 16.015625 36.375 \nQ 16.015625 21.96875 22.65625 14.328125 \nQ 29.296875 6.6875 41.796875 6.6875 \nQ 48.140625 6.6875 53.78125 8.984375 \nQ 59.421875 11.28125 64.40625 15.921875 \nL 64.40625 5.609375 \nQ 59.234375 2.09375 53.4375 0.328125 \nQ 47.65625 -1.421875 41.21875 -1.421875 \nQ 24.65625 -1.421875 15.125 8.703125 \nQ 5.609375 18.84375 5.609375 36.375 \nQ 5.609375 53.953125 15.125 64.078125 \nQ 24.65625 74.21875 41.21875 74.21875 \nQ 47.75 74.21875 53.53125 72.484375 \nQ 59.328125 70.75 64.40625 67.28125 \nz\n\" id=\"DejaVuSans-67\"/>\n     </defs>\n     <g transform=\"translate(138.08 198.619638)scale(0.14 -0.14)\">\n      <use xlink:href=\"#DejaVuSans-67\"/>\n      <use x=\"69.824219\" xlink:href=\"#DejaVuSans-111\"/>\n      <use x=\"131.005859\" xlink:href=\"#DejaVuSans-97\"/>\n      <use x=\"192.285156\" xlink:href=\"#DejaVuSans-116\"/>\n      <use x=\"231.494141\" xlink:href=\"#DejaVuSans-105\"/>\n      <use x=\"259.277344\" xlink:href=\"#DejaVuSans-110\"/>\n      <use x=\"322.65625\" xlink:href=\"#DejaVuSans-103\"/>\n      <use x=\"386.132812\" xlink:href=\"#DejaVuSans-32\"/>\n      <use x=\"417.919922\" xlink:href=\"#DejaVuSans-101\"/>\n      <use x=\"479.443359\" xlink:href=\"#DejaVuSans-110\"/>\n      <use x=\"542.822266\" xlink:href=\"#DejaVuSans-101\"/>\n      <use x=\"604.345703\" xlink:href=\"#DejaVuSans-114\"/>\n      <use x=\"645.443359\" xlink:href=\"#DejaVuSans-103\"/>\n      <use x=\"708.919922\" xlink:href=\"#DejaVuSans-121\"/>\n     </g>\n    </g>\n   </g>\n  </g>\n </g>\n <defs>\n  <clipPath id=\"pf690ea5eda\">\n   <rect height=\"169.7024\" width=\"327.013281\" x=\"86.28\" y=\"44.4288\"/>\n  </clipPath>\n </defs>\n</svg>\n",
      "image/png": "[encoded data removed]"
     },
     "metadata": {
      "needs_background": "light"
     }
    }
   ],
   "source": [
    "# Now that we have seen that our results are close to the analytic solution, we can begin to plot the data. This plot shows how the total/coating energy converge with resolution. We are going to define the same variables again from above, but now we are not going to manipulate them to have agree with the analytic solution.\n",
    "\n",
    "totalEnergy = data[:,1]\n",
    "totalEnergyDropLast = totalEnergy[:-1]\n",
    "totalEnergyDropFirst = totalEnergy[1:]\n",
    "totalEnergyDiff = np.abs(totalEnergyDropLast - totalEnergyDropFirst)\n",
    "totalEnergyDiffFrac = totalEnergyDiff / totalEnergyDropLast\n",
    "\n",
    "coatEnergy = data[:,3]\n",
    "coatEnergyDropLast = coatEnergy[:-1]\n",
    "coatEnergyDropFirst = coatEnergy[1:]\n",
    "coatEnergyDiff = np.abs(coatEnergyDropLast - coatEnergyDropFirst)\n",
    "coatEnergyDiffFrac = coatEnergyDiff / coatEnergyDropLast\n",
    "\n",
    "fig_1 = plt.gcf()\n",
    "ax_1 = plt.gca()\n",
    "\n",
    "gridwidth_1=0.5\n",
    "gridcolor_1=(0.8,0.8,0.8)\n",
    "\n",
    "myAxisLabelSize_1=28\n",
    "myTickLabelSize_1=18\n",
    "myLegendLabelSize_1=14\n",
    "myTitleSize_1=25\n",
    "\n",
    "ax_1.plot(data[:,0][:-1], totalEnergyDiffFrac, marker='x', label='Total energy', color='b')\n",
    "ax_1.plot(data[:,0][:-1], coatEnergyDiffFrac, marker='o', label='Coating energy', color='r')\n",
    "\n",
    "ax_1.set_xlim([0,12])\n",
    "ax_1.set_ylim([1e-6,1e0])\n",
    "\n",
    "ax_1.set_yscale('log')\n",
    "ax_1.set_xlim([-1,12])\n",
    "\n",
    "ax_1.set_xlabel('$N$', fontsize=myAxisLabelSize_1)\n",
    "ax_1.set_ylabel('$|E_{N+1} - E_{N}|/ E_{N+1}$ ', fontsize=myAxisLabelSize_1)\n",
    "\n",
    "ax_1.tick_params(axis='x', labelsize=myTickLabelSize_1, pad=12, length=1)\n",
    "ax_1.tick_params(which='minor', length=1)\n",
    "ax_1.tick_params(axis='y', labelsize=myTickLabelSize_1, length=1)\n",
    "\n",
    "ax_1.grid(b=True, which='major', color=gridcolor_1, linestyle='solid', linewidth=gridwidth_1)\n",
    "\n",
    "ax_1.set_title('Effective Isotropic AlGaAs', fontsize=myTitleSize_1, color='k', y=1.04)\n",
    "ax_1.legend(loc='lower left', fontsize=myLegendLabelSize_1)\n",
    "\n",
    "fig_1.tight_layout()\n",
    "pdf_1 = PdfPages('TotalAndCoatingEnergyConvergence.pdf')\n",
    "pdf_1.savefig()\n",
    "pdf_1.close()"
   ]
  },
  {
   "cell_type": "code",
   "execution_count": 48,
   "metadata": {
    "tags": []
   },
   "outputs": [],
   "source": [
    "# All defunct for now\n",
    "\n",
    "# This is the amplitude spectral density, equation 43 in Geoffreys paper.\n",
    "# Note that the amplitude spectral density is usually referred to as the thermal noise.\n",
    "\n",
    "# Note that we have to put the units back into the equations here since we put units into the code.\n",
    "\n",
    "\n",
    "# These equations define the coating thermal noise.\n",
    "\n",
    "#asd = np.sqrt((2*kB*T/((math.pi**2)*f))*((1-(sigmaSub**2))/(wm*ymSub))*(d/wm)*((phiCoat)/(ymSub*ymCoat*(1-sigmaCoat**2)*(1-sigmaSub**2)))*(ymCoat**2*(1+sigmaSub)**2*(1-2*sigmaSub)**2+ymSub**2*(1+sigmaCoat)**2*(1-2*sigmaCoat)))\n",
    "\n",
    "# This is the power spectral density\n",
    "#psd = (2*kB*T/((math.pi**2)*f))*((1-(sigmaSub**2))/(wm*ymSub))*(d/wm)*((phiCoat)/(ymSub*ymCoat*(1-sigmaCoat**2)*(1-sigmaSub**2)))*(ymCoat**2*(1+sigmaSub)**2*(1-2*sigmaSub)**2+ymSub**2*(1+sigmaCoat)**2*(1-2*sigmaCoat))\n",
    "\n",
    "# This is supposedly equation 19 in the thermal noise paper by Geoffrey, the coating energy.\n",
    "# However I do not have the term phi(f) that is in the paper. So I don't think that this equation will work.\n",
    "# In fact, this equation is for the total thermal noise.\n",
    "#ge_AnalyticCoatingEnergy = ((math.pi * f * pow(F0, 2))/ (4 * kB * T * phiCoat)) * psd\n",
    "\n",
    "#numCoatThermalNoise = numCoatThermalNoise / np.sqrt(f)\n",
    "\n",
    "#CoatingEnergyPercentDifference = np.abs(asd - numCoatThermalNoise)/asd\n",
    "\n",
    "###################################################################################################\n",
    "###################################################################################################\n",
    "\n",
    "#print(\"The asd is \", asd,\".\\n\")\n",
    "#print(\"The psd is \", psd,\".\\n\")\n",
    "#print(ge_AnalyticCoatingEnergy)\n",
    "#print(\"The numerical coating thermal noise is\", numCoatThermalNoise,\".\")\n",
    "#print(\"The percent difference is\", CoatingEnergyPercentDifference * 100 ,\"%.\")\n",
    "\n",
    "#print(\"The coating energy is \", AnalyticCoatingEnergy, \".\")\n",
    "\n",
    "###################################################################################################\n",
    "###################################################################################################\n",
    "\n",
    "# Let us do a little excercise:\n",
    "\n",
    "# According to equation 29, the coating energy is \n",
    "# U_phi = U_Bulk * phiBulk + U_Shear * phiShear\n",
    "\n",
    "\n"
   ]
  },
  {
   "cell_type": "code",
   "execution_count": 50,
   "metadata": {
    "tags": []
   },
   "outputs": [],
   "source": [
    "# The total thermal noise. In the paper, we only plot this for the a FusedSilica coating/substrate.\n",
    "\n",
    "#TotalAmpThermalNoise = np.sqrt(((2*kB*T)/(math.pi**(1.5)*f))*((1-sigmaSub**2)/(wm*ymSub))*phiSub)\n",
    "#TotalThermalNoise = (((2*kB*T)/(math.pi**(1.5)*f))*((1-sigmaSub**2)/(wm*ymSub))*phiSub)\n",
    "#print(totalAmpNoiseNumerical, \" \" , TotalThermalNoise, \" \", TotalAmpThermalNoise)\n",
    "\n"
   ]
  },
  {
   "cell_type": "code",
   "execution_count": 52,
   "metadata": {},
   "outputs": [],
   "source": [
    "# This is a plot that determines if the bulk and shear energy (as well as their ratio) converge.\n",
    "#BulkLossAngle = 1E-6\n",
    "#ShearLossAngle = 1E-6\n",
    "#phiBDividedByphiS = BulkLossAngle / ShearLossAngle\n",
    "\n",
    "# Get the bulk and shear energies calculated.\n",
    "#BulkEnergyNum  = data[:,10]\n",
    "#BulkEnergyDropLast = BulkEnergyNum[:-1]\n",
    "#BulkEnergyDropFirst = BulkEnergyNum[1:]\n",
    "#BulkEnergyDiff = np.abs(BulkEnergyDropLast - BulkEnergyDropFirst)\n",
    "#BulkEnergyDiffFrac = BulkEnergyDiff / BulkEnergyDropLast\n",
    "\n",
    "#ShearEnergyNum = data[:,11]\n",
    "#ShearEnergyDropLast = ShearEnergyNum[:-1]\n",
    "#ShearEnergyDropFirst = ShearEnergyNum[1:]\n",
    "#ShearEnergyDiff = np.abs(ShearEnergyDropLast - ShearEnergyDropFirst)\n",
    "#ShearEnergyDiffFrac = ShearEnergyDiff / ShearEnergyDropLast\n",
    "\n",
    "#RatioNum = data[:,10] / data[:,11]\n",
    "#RatioDropLast = RatioNum[:-1]\n",
    "#RatioDropFirst = RatioNum[1:]\n",
    "#RatioDiff = np.abs(RatioDropLast - RatioDropFirst)\n",
    "#RatioDiffFrac = RatioDiff / RatioDropLast\n",
    "\n",
    "#RatioNumDividedByLossAngles = (data[:,10] / data[:,11]) / phiBDividedByphiS\n",
    "#RatioNumDividedByLossAnglesDropLast = RatioNumDividedByLossAngles[:-1]\n",
    "#RatioNumDividedByLossAnglesDropFirst = RatioNumDividedByLossAngles[1:]\n",
    "#RatioNumDividedByLossAnglesDiff = np.abs(RatioDropLast - RatioDropFirst)\n",
    "#RatioNumDividedByLossAnglesDiffFrac = RatioNumDividedByLossAnglesDiff / #RatioNumDividedByLossAnglesDropLast\n",
    "\n",
    "\n",
    "# Set the values of phiB and phiS that will appear in the legend of the graphs\n",
    "# phiB_patch = mpatches.Patch(label='$\\phi_{B} = 2.5e-5$')\n",
    "# phiS_patch = mpatches.Patch(color='blue', label='$\\phi_{S} = 2.5e-5$')\n",
    "\n",
    "#myAxisLabelSize_2 = 20\n",
    "#myTickLabelSize_2 = 18\n",
    "#myLegendLabelSize_2 = 10\n",
    "#myTitleSize_2 = 25\n",
    "\n",
    "#gridwidth_2 = 0.5\n",
    "#gridcolor_2 = (0.8,0.8,0.8)\n",
    "\n",
    "#ax_2 = plt.gca()\n",
    "\n",
    "# Plot the value of bulk/shear / phib/phis versus resolution\n",
    "#ax_2.plot(data[:,0][:-1], BulkEnergyDiffFrac, marker='o',label='Bulk Energy', color='b')\n",
    "#ax_2.plot(data[:,0][:-1], ShearEnergyDiffFrac, marker='o',label='Shear Energy', color='g')\n",
    "#ax_2.plot(data[:,0][:-1], RatioDiffFrac, marker='o',label='Bulk/Shear Energy Ratio', color='r')\n",
    "\n",
    "#ax_2.set_yscale('log')\n",
    "#ax_2.set_xlim([-1,12])\n",
    "\n",
    "#ax_2.set_xlabel('$N$', fontsize=myAxisLabelSize_2)\n",
    "#ax_2.set_ylabel('$|E_{N+1} - E_{N}|/ E_{N+1}$ ', fontsize= 32)\n",
    "\n",
    "#ax_2.tick_params(axis='x', labelsize=myTickLabelSize_2, pad=10, length=1)\n",
    "#ax_2.tick_params(which='minor', length=1)\n",
    "#ax_2.tick_params(axis='y', labelsize=myTickLabelSize_2, length=1)\n",
    "\n",
    "#ax_2.grid(b=True, which='major', color=gridcolor_2, linestyle='solid', linewidth=gridwidth_2)\n",
    "\n",
    "#ax_2.set_title('Fused Silica', fontsize=myTitleSize_2, color='k', y=1.04)\n",
    "#ax_2.legend(loc='lower left', fontsize=myLegendLabelSize_2)\n",
    "\n",
    "#fig_2 = plt.gcf()\n",
    "#fig_2.tight_layout()\n",
    "#pdf_2 = PdfPages('BulkAndShearEnergyConvergence.pdf')\n",
    "#pdf_2.savefig()\n",
    "#pdf_2.close()"
   ]
  },
  {
   "cell_type": "code",
   "execution_count": 53,
   "metadata": {},
   "outputs": [
    {
     "output_type": "error",
     "ename": "NameError",
     "evalue": "name 'EnergyDividedByPhi' is not defined",
     "traceback": [
      "\u001b[0;31m---------------------------------------------------------------------------\u001b[0m",
      "\u001b[0;31mNameError\u001b[0m                                 Traceback (most recent call last)",
      "\u001b[0;32m<ipython-input-53-196e5c26f111>\u001b[0m in \u001b[0;36m<module>\u001b[0;34m\u001b[0m\n\u001b[1;32m      5\u001b[0m \u001b[0;31m# differs from the last value found.\u001b[0m\u001b[0;34m\u001b[0m\u001b[0;34m\u001b[0m\u001b[0;34m\u001b[0m\u001b[0m\n\u001b[1;32m      6\u001b[0m \u001b[0;34m\u001b[0m\u001b[0m\n\u001b[0;32m----> 7\u001b[0;31m \u001b[0mRealResult\u001b[0m \u001b[0;34m=\u001b[0m \u001b[0mEnergyDividedByPhi\u001b[0m\u001b[0;34m[\u001b[0m\u001b[0;34m-\u001b[0m\u001b[0;36m1\u001b[0m\u001b[0;34m]\u001b[0m\u001b[0;34m\u001b[0m\u001b[0;34m\u001b[0m\u001b[0m\n\u001b[0m\u001b[1;32m      8\u001b[0m \u001b[0mMyList\u001b[0m \u001b[0;34m=\u001b[0m \u001b[0;34m[\u001b[0m\u001b[0;34m]\u001b[0m\u001b[0;34m\u001b[0m\u001b[0;34m\u001b[0m\u001b[0m\n\u001b[1;32m      9\u001b[0m \u001b[0;32mfor\u001b[0m \u001b[0mp\u001b[0m \u001b[0;32min\u001b[0m \u001b[0mEnergyDividedByPhi\u001b[0m\u001b[0;34m:\u001b[0m\u001b[0;34m\u001b[0m\u001b[0;34m\u001b[0m\u001b[0m\n",
      "\u001b[0;31mNameError\u001b[0m: name 'EnergyDividedByPhi' is not defined"
     ]
    }
   ],
   "source": [
    "# Not sure that these plots below actually show anything useful.\n",
    "\n",
    "\n",
    "# This plot shows how far the previous value found by the code (BulkEnergy/ShearEnergy)\n",
    "# differs from the last value found.\n",
    "\n",
    "RealResult = EnergyDividedByPhi[-1]\n",
    "MyList = []\n",
    "for p in EnergyDividedByPhi:\n",
    "    MyList = abs(RealResult - EnergyDividedByPhi)\n",
    "\n",
    "ax3 = plt.gca()\n",
    "\n",
    "ax3.plot(data[:,0], MyList, marker='o', color='r')\n",
    "ax3.set_yscale('log')\n",
    "\n",
    "ax3.set_xlabel('$N$', fontsize=myAxisLabelSize_2)\n",
    "ax3.set_ylabel('$Final Value - N_Value$', fontsize=myAxisLabelSize_2)\n",
    "\n",
    "ax3.tick_params(axis='x', labelsize=myTickLabelSize_2, pad=12, length=1)\n",
    "ax3.tick_params(which='minor', length=1)\n",
    "ax3.tick_params(axis='y', labelsize=myTickLabelSize_2, length=1)\n",
    "ax3.grid(b=True, which='major', color=gridcolor_2, linestyle='solid', linewidth=gridwidth_2)\n",
    "\n",
    "ax3.set_title('AlGaAs (effective isotropic)', fontsize=myTitleSize_2, color='k', y=1.04)\n",
    "\n",
    "\n",
    "\n",
    "ax3.legend(loc='lower left', fontsize=myLegendLabelSize_2)\n",
    "#ax.legend(loc='lower left', fontsize=myLegendLabelSize)\n",
    "\n",
    "fig3 = plt.gcf()\n",
    "fig3.tight_layout()\n",
    "pdf3 = PdfPages('FinalValueMinusNValue.pdf')\n",
    "pdf3.savefig()\n",
    "pdf3.close()"
   ]
  },
  {
   "cell_type": "code",
   "execution_count": 15,
   "metadata": {},
   "outputs": [
    {
     "output_type": "error",
     "ename": "NameError",
     "evalue": "name 'EnergyDividedByPhi' is not defined",
     "traceback": [
      "\u001b[0;31m---------------------------------------------------------------------------\u001b[0m",
      "\u001b[0;31mNameError\u001b[0m                                 Traceback (most recent call last)",
      "\u001b[0;32m<ipython-input-15-4ca6f1b5612c>\u001b[0m in \u001b[0;36m<module>\u001b[0;34m\u001b[0m\n\u001b[0;32m----> 1\u001b[0;31m \u001b[0mEnergyDividedByPhiDropLast\u001b[0m \u001b[0;34m=\u001b[0m \u001b[0mEnergyDividedByPhi\u001b[0m\u001b[0;34m[\u001b[0m\u001b[0;34m:\u001b[0m\u001b[0;34m-\u001b[0m\u001b[0;36m1\u001b[0m\u001b[0;34m]\u001b[0m\u001b[0;34m\u001b[0m\u001b[0;34m\u001b[0m\u001b[0m\n\u001b[0m\u001b[1;32m      2\u001b[0m \u001b[0mEnergyDividedByPhiDropFirst\u001b[0m \u001b[0;34m=\u001b[0m \u001b[0mEnergyDividedByPhi\u001b[0m\u001b[0;34m[\u001b[0m\u001b[0;36m1\u001b[0m\u001b[0;34m:\u001b[0m\u001b[0;34m]\u001b[0m\u001b[0;34m\u001b[0m\u001b[0;34m\u001b[0m\u001b[0m\n\u001b[1;32m      3\u001b[0m \u001b[0mEnergyDividedByPhiDiff\u001b[0m \u001b[0;34m=\u001b[0m \u001b[0mabs\u001b[0m\u001b[0;34m(\u001b[0m\u001b[0mEnergyDividedByPhiDropLast\u001b[0m \u001b[0;34m-\u001b[0m \u001b[0mEnergyDividedByPhiDropFirst\u001b[0m\u001b[0;34m)\u001b[0m\u001b[0;34m\u001b[0m\u001b[0;34m\u001b[0m\u001b[0m\n\u001b[1;32m      4\u001b[0m \u001b[0mEnergyDiffFrac\u001b[0m \u001b[0;34m=\u001b[0m \u001b[0mEnergyDividedByPhiDiff\u001b[0m \u001b[0;34m/\u001b[0m \u001b[0mEnergyDividedByPhiDropLast\u001b[0m\u001b[0;34m\u001b[0m\u001b[0;34m\u001b[0m\u001b[0m\n\u001b[1;32m      5\u001b[0m \u001b[0;34m\u001b[0m\u001b[0m\n",
      "\u001b[0;31mNameError\u001b[0m: name 'EnergyDividedByPhi' is not defined"
     ]
    }
   ],
   "source": [
    "EnergyDividedByPhiDropLast = EnergyDividedByPhi[:-1]\n",
    "EnergyDividedByPhiDropFirst = EnergyDividedByPhi[1:]\n",
    "EnergyDividedByPhiDiff = abs(EnergyDividedByPhiDropLast - EnergyDividedByPhiDropFirst)\n",
    "EnergyDiffFrac = EnergyDividedByPhiDiff / EnergyDividedByPhiDropLast\n",
    "\n",
    "myTitleSize3 = 20\n",
    "myTickLabelSize3=18\n",
    "myLegendLabelSize3 =8\n",
    "myAxisLabelSize3 = 10\n",
    "\n",
    "gridwidth3=0.5\n",
    "gridcolor3=(0.8,0.8,0.8)\n",
    "\n",
    "ax3 = plt.gca()\n",
    "\n",
    "ax3.plot(data[:,0][:-1], EnergyDiffFrac, marker='o', color='r')\n",
    "ax3.set_yscale('log')\n",
    "\n",
    "ax3.set_xlabel('$N$', fontsize=myAxisLabelSize3)\n",
    "ax3.set_ylabel('$|E_{N+1} - E_{N}|/ E_{N+1}$', fontsize=myAxisLabelSize3)\n",
    "\n",
    "ax3.tick_params(axis='x', labelsize=myTickLabelSize3, pad=12, length=1)\n",
    "ax3.tick_params(which='minor', length=1)\n",
    "ax3.tick_params(axis='y', labelsize=myTickLabelSize3, length=1)\n",
    "ax3.grid(b=True, which='major', color=gridcolor3, linestyle='solid', linewidth=gridwidth3)\n",
    "\n",
    "ax3.set_title('Bulk and Shear Energy', fontsize=myTitleSize3, color='k', y=1.04)\n",
    "\n",
    "\n",
    "ax3.legend(handles=[phiB_patch, phiS_patch],loc='lower left', fontsize=myLegendLabelSize3)\n",
    "\n",
    "fig3 = plt.gcf()\n",
    "fig3.tight_layout()\n",
    "pdf3 = PdfPages('EnergyConvergence.pdf')\n",
    "pdf3.savefig()\n",
    "pdf3.close()"
   ]
  },
  {
   "cell_type": "code",
   "execution_count": null,
   "metadata": {},
   "outputs": [],
   "source": []
  }
 ]
}