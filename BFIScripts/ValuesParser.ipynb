{
 "cells": [
  {
   "cell_type": "code",
   "execution_count": null,
   "metadata": {},
   "outputs": [],
   "source": [
    "# This script was originally used to take in the parameters of the detections reported\n",
    "# in the O3a catalog paper. We took in the parameters and wrote the ones we cared about\n",
    "# in a text file. We did this in order to write a BFI project with the correct parameters. \n",
    "\n",
    "# You can use this script to parse stuff in the a json file."
   ]
  },
  {
   "cell_type": "code",
   "execution_count": 1,
   "metadata": {
    "collapsed": true
   },
   "outputs": [],
   "source": [
    "import json\n",
    "from pprint import pprint\n",
    "import numpy as np"
   ]
  },
  {
   "cell_type": "code",
   "execution_count": 2,
   "metadata": {
    "collapsed": true
   },
   "outputs": [],
   "source": [
    "# open the json file\n",
    "json_file = open('values.json')\n",
    "json_str = json_file.read()\n",
    "json_data = json.loads(json_str)"
   ]
  },
  {
   "cell_type": "code",
   "execution_count": 5,
   "metadata": {
    "tags": [
     "outputPrepend"
    ]
   },
   "outputs": [
    {
     "output_type": "stream",
     "name": "stdout",
     "text": "                          'plus': 1.3690958524149295},\n               'cos_tilt_1': {'med': -0.24219341108391892,\n                              'minus': 0.6576833166190099,\n                              'plus': 0.9826628165491385},\n               'cos_tilt_2': {'med': -0.27532609613729714,\n                              'minus': 0.6534991286588152,\n                              'plus': 0.9693309665314047},\n               'dec': {'med': 0.8789908284143693,\n                       'minus': 0.36716644266721876,\n                       'plus': 0.3430013729482255},\n               'geocent_time': {'med': 1252627040.7104287,\n                                'minus': 0.0023293495178222656,\n                                'plus': 0.0014598369598388672},\n               'iota': {'med': 2.155120745300262,\n                        'minus': 1.8620416513929452,\n                        'plus': 0.7588229710606904},\n               'log_likelihood': {'med': -12754.437356005546,\n                                  'minus': 4.632721960068011,\n                                  'plus': 3.3632434513274347},\n               'log_prior': {'med': 162.9145426137193,\n                             'minus': 10.306417526222418,\n                             'plus': 8.208264072992336},\n               'luminosity_distance': {'med': 1606.2090458314108,\n                                       'minus': 662.1779834825583,\n                                       'plus': 579.3546344678155},\n               'mass_1': {'med': 41.76691705521327,\n                          'minus': 5.412035338457073,\n                          'plus': 9.091950844369997},\n               'mass_1_source': {'med': 32.3431236932955,\n                                 'minus': 4.834091177810226,\n                                 'plus': 7.601528475043473},\n               'mass_2': {'med': 32.18872696655608,\n                          'minus': 6.918548489822108,\n                          'plus': 5.460023413266889},\n               'mass_2_source': {'med': 24.688438781606255,\n                                 'minus': 5.058190277390949,\n                                 'plus': 4.780175591739731},\n               'mass_ratio': {'med': 0.7734871416609068,\n                              'minus': 0.25803917977533297,\n                              'plus': 0.2001753289455519},\n               'network_matched_filter_snr': {'med': 13.97029540530338,\n                                              'minus': 0.3216134141299598,\n                                              'plus': 0.22585160551244599},\n               'network_optimal_snr': {'med': 13.666014333993733,\n                                       'minus': 1.6563404606352652,\n                                       'plus': 1.6541414539210955},\n               'phase': {'med': 3.3159338235713345,\n                         'minus': 2.9680970060249487,\n                         'plus': 2.681485977483932},\n               'phi_1': {'med': 3.294586121639955,\n                         'minus': 2.9738051981288987,\n                         'plus': 2.69565651319653},\n               'phi_12': {'med': 3.1325385777331403,\n                          'minus': 2.7780439133401975,\n                          'plus': 2.7323975494165587},\n               'phi_2': {'med': 3.2860964660642527,\n                         'minus': 2.989688221798474,\n                         'plus': 2.737007389226288},\n               'phi_jl': {'med': 3.9598581290121175,\n                          'minus': 3.42165721204993,\n                          'plus': 1.854594114649196},\n               'psi': {'med': 1.5450906377384355,\n                       'minus': 1.3479254008530919,\n                       'plus': 1.373428877910667},\n               'ra': {'med': 3.4106279686655845,\n                      'minus': 0.19768211943698555,\n                      'plus': 0.07555539856019644},\n               'redshift': {'med': 0.3007843804645231,\n                            'minus': 0.11279937581086202,\n                            'plus': 0.09110308232227787},\n               'spin_1x': {'med': -0.002570374950975861,\n                           'minus': 0.619988035767575,\n                           'plus': 0.608654075292138},\n               'spin_1y': {'med': -0.007997899094713164,\n                           'minus': 0.6108913226619831,\n                           'plus': 0.5794120501410267},\n               'spin_1z': {'med': -0.06650667852410784,\n                           'minus': 0.4390987064940053,\n                           'plus': 0.3406284961462135},\n               'spin_2x': {'med': 0.014697285002947097,\n                           'minus': 0.5746624651219889,\n                           'plus': 0.609857563390868},\n               'spin_2y': {'med': -0.004753149081409469,\n                           'minus': 0.6157882078796671,\n                           'plus': 0.5984200142651604},\n               'spin_2z': {'med': -0.08226315280658467,\n                           'minus': 0.5173700432697709,\n                           'plus': 0.39795583601723683},\n               'symmetric_mass_ratio': {'med': 0.24592178947230128,\n                                        'minus': 0.02148049195254695,\n                                        'plus': 0.00403369161265596},\n               'theta_jn': {'med': 2.0347056130889554,\n                            'minus': 1.6362162726738088,\n                            'plus': 0.8177891362078138},\n               'tilt_1': {'med': 1.8154222593987082,\n                          'minus': 1.0783944521018487,\n                          'plus': 0.874861319551782},\n               'tilt_2': {'med': 1.849725218870156,\n                          'minus': 1.0459659769578589,\n                          'plus': 0.9123006203735722},\n               'total_mass': {'med': 74.22056996359214,\n                              'minus': 5.890325601480384,\n                              'plus': 6.750920940873456},\n               'total_mass_source': {'med': 56.99958248680927,\n                                     'minus': 4.991204461775418,\n                                     'plus': 7.529480909560043}},\n 'GW190924a': {'Sname': 'S190924h',\n               'a_1': {'med': 0.3088810098393854,\n                       'minus': 0.2661171000559534,\n                       'plus': 0.43794092460279255},\n               'a_2': {'med': 0.43429286602387546,\n                       'minus': 0.39370328109535113,\n                       'plus': 0.49465459145636376},\n               'chi_eff': {'med': 0.030905016851119058,\n                           'minus': 0.10852957445837672,\n                           'plus': 0.3232393741485308},\n               'chi_p': {'med': 0.31666152010452464,\n                         'minus': 0.22476747935110875,\n                         'plus': 0.3869028959467993},\n               'chirp_mass': {'med': 6.427547651045044,\n                              'minus': 0.027296385672567425,\n                              'plus': 0.05049158042479718},\n               'chirp_mass_source': {'med': 5.770406996608562,\n                                     'minus': 0.17770747336135262,\n                                     'plus': 0.20694675880924684},\n               'comoving_distance': {'med': 493.9945379387584,\n                                     'minus': 165.5579496783601,\n                                     'plus': 140.49821182578899},\n               'cos_iota': {'med': 0.8254309648063508,\n                            'minus': 1.7832842505706994,\n                            'plus': 0.1646881992425513},\n               'cos_theta_jn': {'med': 0.8269115239783505,\n                                'minus': 1.7896186695028358,\n                                'plus': 0.1649693930616687},\n               'cos_tilt_1': {'med': 0.22944555818421097,\n                              'minus': 0.9218071854875369,\n                              'plus': 0.6732692308054594},\n               'cos_tilt_2': {'med': 0.021242860241250563,\n                              'minus': 0.8634793647869315,\n                              'plus': 0.8647274333950868},\n               'dec': {'med': 0.20105745090589083,\n                       'minus': 0.3649907003202468,\n                       'plus': 0.21079120838944038},\n               'geocent_time': {'med': 1253326744.8321276,\n                                'minus': 0.0033898353576660156,\n                                'plus': 0.0033538341522216797},\n               'iota': {'med': 0.5998311113040661,\n                        'minus': 0.4591388953202128,\n                        'plus': 2.2503987838882744},\n               'log_likelihood': {'med': -104273.1700633055,\n                                  'minus': 4.880643887154292,\n                                  'plus': 3.2203388218476903},\n               'log_prior': {'med': 156.5661963924994,\n                             'minus': 10.239548916490406,\n                             'plus': 7.962545128596048},\n               'luminosity_distance': {'med': 550.6727098433194,\n                                       'minus': 197.4213708215675,\n                                       'plus': 178.11351020712561},\n               'mass_1': {'med': 10.447524840266844,\n                          'minus': 2.7845627669674924,\n                          'plus': 8.893895831786057},\n               'mass_1_source': {'med': 9.387882031427832,\n                                 'minus': 2.5048995105095875,\n                                 'plus': 7.926335714155869},\n               'mass_2': {'med': 5.32499148200316,\n                          'minus': 2.0302930144288984,\n                          'plus': 1.770794296975895},\n               'mass_2_source': {'med': 4.7696911631553505,\n                                 'minus': 1.815888753414486,\n                                 'plus': 1.6120445593723929},\n               'mass_ratio': {'med': 0.5099727457869494,\n                              'minus': 0.33919997108852445,\n                              'plus': 0.4162006515657848},\n               'network_matched_filter_snr': {'med': 12.930167759092885,\n                                              'minus': 0.36874465859605365,\n                                              'plus': 0.22926581580288463},\n               'network_optimal_snr': {'med': 12.622729960165689,\n                                       'minus': 1.7163407470512375,\n                                       'plus': 1.6317308286847165},\n               'phase': {'med': 2.8939432796101414,\n                         'minus': 2.636818089616265,\n                         'plus': 3.0017786281899745},\n               'phi_1': {'med': 3.286872496345276,\n                         'minus': 2.9658711846660655,\n                         'plus': 2.710168572759893},\n               'phi_12': {'med': 3.345780415651186,\n                          'minus': 2.9681997704933556,\n                          'plus': 2.6110381175037274},\n               'phi_2': {'med': 3.1914104793862323,\n                         'minus': 2.8359936611660035,\n                         'plus': 2.7498733756011964},\n               'phi_jl': {'med': 2.885131808774167,\n                          'minus': 2.6401604745973577,\n                          'plus': 3.08624081623101},\n               'psi': {'med': 1.4732727761193969,\n                       'minus': 1.3481460746571188,\n                       'plus': 1.4778995732228015},\n               'ra': {'med': 2.2591037935887073,\n                      'minus': 0.10706597159496312,\n                      'plus': 0.21713173161081833},\n               'redshift': {'med': 0.11473280093239988,\n                            'minus': 0.039179135576887375,\n                            'plus': 0.033878986930587024},\n               'spin_1x': {'med': -0.0011374726672203402,\n                           'minus': 0.37757094102274275,\n                           'plus': 0.46633705586926755},\n               'spin_1y': {'med': -0.0063534561051140324,\n                           'minus': 0.4450242285549395,\n                           'plus': 0.3931708896068093},\n               'spin_1z': {'med': 0.04675807826599377,\n                           'minus': 0.25168397570241297,\n                           'plus': 0.3884361390998565},\n               'spin_2x': {'med': -0.013204846753038775,\n                           'minus': 0.5729259052455503,\n                           'plus': 0.5822728882026724},\n               'spin_2y': {'med': -0.002515295803743884,\n                           'minus': 0.5538003507888235,\n                           'plus': 0.5463827965019005},\n               'spin_2z': {'med': 0.0038135550168886725,\n                           'minus': 0.48573916439448667,\n                           'plus': 0.5590203588373698},\n               'symmetric_mass_ratio': {'med': 0.22367052116327846,\n                                        'minus': 0.09908332700611738,\n                                        'plus': 0.025962210311629458},\n               'theta_jn': {'med': 0.5972032855388698,\n                            'minus': 0.4696879283887345,\n                            'plus': 2.2704297207653052},\n               'tilt_1': {'med': 1.339288321142019,\n                          'minus': 0.8945302819771899,\n                          'plus': 0.9962653186440988},\n               'tilt_2': {'med': 1.5495518685512126,\n                          'minus': 1.0673378008932761,\n                          'plus': 1.0226628613327076},\n               'total_mass': {'med': 15.777084952485854,\n                              'minus': 1.0225147433972346,\n                              'plus': 6.867504391300788},\n               'total_mass_source': {'med': 14.198843770642604,\n                                     'minus': 1.1167925563586198,\n                                     'plus': 6.017703386842676}},\n 'GW190930a': {'Sname': 'S190930s',\n               'a_1': {'med': 0.4718362172427982,\n                       'minus': 0.41787740767561715,\n                       'plus': 0.2786318361391004},\n               'a_2': {'med': 0.47686395273288773,\n                       'minus': 0.4293544068401517,\n                       'plus': 0.47292902892875954},\n               'chi_eff': {'med': 0.2780944070598106,\n                           'minus': 0.1962679844358613,\n                           'plus': 0.37820567379491554},\n               'chi_p': {'med': 0.0, 'minus': 0.0, 'plus': 0.0},\n               'chirp_mass': {'med': 9.924057355686891,\n                              'minus': 0.1929171766853095,\n                              'plus': 0.20410630849132616},\n               'chirp_mass_source': {'med': 8.579283552885038,\n                                     'minus': 0.4701559468203502,\n                                     'plus': 0.5417179151283804},\n               'comoving_distance': {'med': 667.6685427196624,\n                                     'minus': 272.9551679483902,\n                                     'plus': 264.9862302679244},\n               'cos_iota': {'med': 0.13003538567540474,\n                            'minus': 1.0968205437715346,\n                            'plus': 0.8383862622099635},\n               'cos_theta_jn': {'med': 0.13003538567540474,\n                                'minus': 1.0968205437715346,\n                                'plus': 0.8383862622099635},\n               'cos_tilt_1': {'med': 1.0, 'minus': 2.0, 'plus': 0.0},\n               'cos_tilt_2': {'med': 1.0, 'minus': 2.0, 'plus': 0.0},\n               'dec': {'med': 0.4382370685814262,\n                       'minus': 0.575346957159312,\n                       'plus': 0.6624584308033438},\n               'geocent_time': {'med': 1253885759.234582,\n                                'minus': 0.0059506893157958984,\n                                'plus': 0.01660442352294922},\n               'iota': {'med': 1.4403916572883966,\n                        'minus': 1.188415611850142,\n                        'plus': 1.4427426815000488},\n               'log_likelihood': {'med': -7465.099842713977,\n                                  'minus': 4.744953289297882,\n                                  'plus': 2.6497102585126413},\n               'log_prior': {'med': 123.92693504685185,\n                             'minus': 8.627973372065796,\n                             'plus': 6.732111583012269},\n               'luminosity_distance': {'med': 772.2967320285289,\n                                       'minus': 341.6046854644242,\n                                       'plus': 367.97832174925986},\n               'mass_1': {'med': 18.78206954891308,\n                          'minus': 6.903882946696047,\n                          'plus': 26.678954631656765},\n               'mass_1_source': {'med': 16.20924227336065,\n                                 'minus': 5.914933683302856,\n                                 'plus': 23.1006766413117},\n               'mass_2': {'med': 7.192790581855494,\n                          'minus': 3.401268982449338,\n                          'plus': 3.6173268470475044},\n               'mass_2_source': {'med': 6.22713408877247,\n                                 'minus': 2.95166892525309,\n                                 'plus': 3.154895334906337},\n               'mass_ratio': {'med': 0.38319097792104917,\n                              'minus': 0.29987458410933737,\n                              'plus': 0.5260091006103054},\n               'network_matched_filter_snr': {'med': 9.527910237376622,\n                                              'minus': 0.48111456950720743,\n                                              'plus': 0.24871428684368446},\n               'network_optimal_snr': {'med': 9.053843085104102,\n                                       'minus': 1.7066167793371676,\n                                       'plus': 1.715613132963771},\n               'phase': {'med': 3.2587548034275473,\n                         'minus': 2.8708406324104896,\n                         'plus': 2.7414947149506848},\n               'phi_1': {'med': 0.0, 'minus': 0.0, 'plus': 0.0},\n               'phi_2': {'med': 0.0, 'minus': 0.0, 'plus': 0.0},\n               'psi': {'med': 1.5326559313505803,\n                       'minus': 1.3698573110431391,\n                       'plus': 1.4297081045637619},\n               'ra': {'med': 5.554351114614275,\n                      'minus': 5.18832949543225,\n                      'plus': 0.4390881361604473},\n               'redshift': {'med': 0.15670022805395192,\n                            'minus': 0.06555537687814961,\n                            'plus': 0.06589782590370016},\n               'spin_1x': {'med': 0.0, 'minus': 0.0, 'plus': 0.0},\n               'spin_1y': {'med': 0.0, 'minus': 0.0, 'plus': 0.0},\n               'spin_1z': {'med': 0.4617605891356438,\n                           'minus': 0.6853607627858288,\n                           'plus': 0.2880166126714683},\n               'spin_2x': {'med': 0.0, 'minus': 0.0, 'plus': 0.0},\n               'spin_2y': {'med': 0.0, 'minus': 0.0, 'plus': 0.0},\n               'spin_2z': {'med': 0.050632092812140816,\n                           'minus': 0.9101008283041037,\n                           'plus': 0.867738027478846},\n               'symmetric_mass_ratio': {'med': 0.20028617738111248,\n                                        'minus': 0.12929247373419045,\n                                        'plus': 0.04914835456583916},\n               'theta_jn': {'med': 1.4403916572883966,\n                            'minus': 1.188415611850142,\n                            'plus': 1.4427426815000488},\n               'tilt_1': {'med': 0.0, 'minus': 0.0, 'plus': 3.141592653589793},\n               'tilt_2': {'med': 0.0, 'minus': 0.0, 'plus': 3.141592653589793},\n               'total_mass': {'med': 25.985394438454136,\n                              'minus': 3.3224029201287806,\n                              'plus': 23.254605861010234},\n               'total_mass_source': {'med': 22.487553457154064,\n                                     'minus': 3.279625842960286,\n                                     'plus': 20.22162918573487}}}\n"
    }
   ],
   "source": [
    "# To print out the data with the proper indents\n",
    "pprint(json_data)"
   ]
  },
  {
   "cell_type": "code",
   "execution_count": 4,
   "metadata": {},
   "outputs": [],
   "source": [
    "f= open(\"FinalParameters.txt\",\"w+\")\n",
    "f.write('event_name' + ' ' + 'network_optimal_snr' + ' ' + 'total_mass' + ' ' +  'a_1' + ' ' + 'a_2' + ' ' + 'mass_ratio' + ' ' + 'spin_1x' + ' ' + 'spin_1y' + ' ' + 'spin_1z' + ' ' + 'spin_2x' + ' ' + 'spin_2y' + ' ' + 'spin_2z' + '\\n')\n",
    "\n",
    "for event_name, parameter_list in json_data.items(): # in this case the name of the event is\n",
    "    for parameter, v in parameter_list.items():\n",
    "        #print event_name, \" \", w, \" \" , v\n",
    "        DumpedData = json.dumps(v)\n",
    "        MediumValue = json.loads(DumpedData)\n",
    "        if parameter == 'mass_ratio':\n",
    "            mass_ratio = MediumValue['med']\n",
    "        if parameter == 'network_optimal_snr':\n",
    "            network_optimal_snr = MediumValue['med']\n",
    "        if parameter == 'total_mass':\n",
    "            total_mass = MediumValue['med']\n",
    "        if parameter == 'a_1':\n",
    "            a_1 = MediumValue['med']\n",
    "        if parameter == 'a_2':\n",
    "            a_2 = MediumValue['med']\n",
    "        if parameter == 'spin_1x':\n",
    "            spin_1x = MediumValue['med']\n",
    "        if parameter == 'spin_1y':\n",
    "            spin_1y = MediumValue['med']\n",
    "        if parameter == 'spin_1z':\n",
    "            spin_1z = MediumValue['med']\n",
    "        if parameter == 'spin_2x':\n",
    "            spin_2x = MediumValue['med']\n",
    "        if parameter == 'spin_2y':\n",
    "            spin_2y = MediumValue['med']\n",
    "        if parameter == 'spin_2z':\n",
    "            spin_2z = MediumValue['med']\n",
    "    \n",
    "    f.write(str(event_name) + ' ' + str(network_optimal_snr) + ' ' + str(total_mass) + ' ' +  str(a_1) + ' ' + str(a_2) + ' ' + str(mass_ratio) + ' ' + str(spin_1x) + ' ' + str(spin_1y) + ' ' + str(spin_1z) + ' ' + str(spin_2x) + ' ' + str(spin_2y) + ' ' + str(spin_2z) + '\\n')\n",
    "\n",
    "f.close()"
   ]
  },
  {
   "cell_type": "code",
   "execution_count": null,
   "metadata": {
    "collapsed": true
   },
   "outputs": [],
   "source": []
  },
  {
   "cell_type": "code",
   "execution_count": null,
   "metadata": {
    "collapsed": true
   },
   "outputs": [],
   "source": []
  }
 ],
 "metadata": {
  "kernelspec": {
   "display_name": "Python 3.7.4 64-bit ('anaconda3': virtualenv)",
   "language": "python",
   "name": "python37464bitanaconda3virtualenvfff8831ddd5943edbb0020aeae833cab"
  },
  "language_info": {
   "codemirror_mode": {
    "name": "ipython",
    "version": 2
   },
   "file_extension": ".py",
   "mimetype": "text/x-python",
   "name": "python",
   "nbconvert_exporter": "python",
   "pygments_lexer": "ipython2",
   "version": "3.7.4-final"
  }
 },
 "nbformat": 4,
 "nbformat_minor": 2
}