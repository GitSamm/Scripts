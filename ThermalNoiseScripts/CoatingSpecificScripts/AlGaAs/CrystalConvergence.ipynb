{
 "metadata": {
  "language_info": {
   "codemirror_mode": {
    "name": "ipython",
    "version": 3
   },
   "file_extension": ".py",
   "mimetype": "text/x-python",
   "name": "python",
   "nbconvert_exporter": "python",
   "pygments_lexer": "ipython3",
   "version": 3
  },
  "orig_nbformat": 2
 },
 "nbformat": 4,
 "nbformat_minor": 2,
 "cells": [
  {
   "cell_type": "code",
   "execution_count": null,
   "metadata": {},
   "outputs": [],
   "source": [
    "import numpy as np\n",
    "import matplotlib\n",
    "from matplotlib import pyplot as plt\n",
    "from matplotlib.backends.backend_pdf import PdfPages\n"
   ]
  },
  {
   "cell_type": "code",
   "execution_count": null,
   "metadata": {},
   "outputs": [],
   "source": [
    "data = np.genfromtxt(\"Energy.dat\")\n",
    "\n",
    "totalEnergy = data[:,1]\n",
    "totalEnergyDropLast = totalEnergy[:-1]\n",
    "totalEnergyDropFirst = totalEnergy[1:]\n",
    "totalEnergyDiff = np.abs(totalEnergyDropLast - totalEnergyDropFirst)\n",
    "totalEnergyDiffFrac = totalEnergyDiff / totalEnergyDropLast\n",
    "\n",
    "coatEnergy = data[:,3]\n",
    "coatEnergyDropLast = coatEnergy[:-1]\n",
    "coatEnergyDropFirst = coatEnergy[1:]\n",
    "coatEnergyDiff = np.abs(coatEnergyDropLast - coatEnergyDropFirst)\n",
    "coatEnergyDiffFrac = coatEnergyDiff / coatEnergyDropLast"
   ]
  },
  {
   "source": [
    "\n",
    "myAxisLabelSize=32\n",
    "myTickLabelSize=18\n",
    "myLegendLabelSize=14\n",
    "myTitleSize=25\n",
    "\n",
    "fig = plt.gcf()\n",
    "ax = plt.gca()\n",
    "\n",
    "gridwidth=0.5\n",
    "gridcolor=(0.8,0.8,0.8)\n",
    "\n",
    "ax.plot(data[:,0][:-1], totalEnergyDiffFrac, marker='x', label='Total energy', color='b')\n",
    "ax.plot(data[:,0][:-1], coatEnergyDiffFrac, marker='o', label='Coating energy', color='r')\n",
    "\n",
    "ax.set_xlim([0,12])\n",
    "ax.set_ylim([1e-6,1e0])\n",
    "ax.set_yscale('log')\n",
    "\n",
    "ax.set_xlabel('$N$', fontsize=myAxisLabelSize)\n",
    "ax.set_ylabel('$|E_{N+1} - E_{N}|/ E_{N+1}$ ', fontsize=myAxisLabelSize)\n",
    "\n",
    "ax.tick_params(axis='x', labelsize=myTickLabelSize, pad=12, length=1)\n",
    "ax.tick_params(which='minor', length=1)\n",
    "ax.tick_params(axis='y', labelsize=myTickLabelSize, length=1)\n",
    "ax.grid(b=True, which='major', color=gridcolor, linestyle='solid', linewidth=gridwidth)\n",
    "\n",
    "ax.set_title('AlGaAs', fontsize=myTitleSize, color='k', y=1.04)\n",
    "ax.legend(loc='lower left', fontsize=myLegendLabelSize)\n",
    "\n",
    "fig.tight_layout()\n",
    "pdf = PdfPages('CrystalTotalEnergyCon.pdf')\n",
    "pdf.savefig()\n",
    "pdf.close()\n",
    "\n",
    "\n"
   ],
   "cell_type": "code",
   "metadata": {},
   "execution_count": null,
   "outputs": []
  },
  {
   "cell_type": "code",
   "execution_count": null,
   "metadata": {},
   "outputs": [],
   "source": []
  }
 ]
}